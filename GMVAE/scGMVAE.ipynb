{
  "nbformat": 4,
  "nbformat_minor": 0,
  "metadata": {
    "kernelspec": {
      "name": "python3",
      "display_name": "Python 3"
    },
    "language_info": {
      "codemirror_mode": {
        "name": "ipython",
        "version": 3
      },
      "file_extension": ".py",
      "mimetype": "text/x-python",
      "name": "python",
      "nbconvert_exporter": "python",
      "pygments_lexer": "ipython3",
      "version": "3.7.5"
    },
    "colab": {
      "name": "scGMVAE.ipynb",
      "provenance": [],
      "collapsed_sections": [
        "SqDvYI2b20To",
        "AlYvb5ww6Gzc",
        "yWZS8lKGzW50",
        "2DViGpZR7BcD"
      ],
      "include_colab_link": true
    },
    "accelerator": "GPU"
  },
  "cells": [
    {
      "cell_type": "markdown",
      "metadata": {
        "id": "view-in-github",
        "colab_type": "text"
      },
      "source": [
        "<a href=\"https://colab.research.google.com/github/jiangyuan2li/scDGM/blob/master/GMVAE/scGMVAE.ipynb\" target=\"_parent\"><img src=\"https://colab.research.google.com/assets/colab-badge.svg\" alt=\"Open In Colab\"/></a>"
      ]
    },
    {
      "cell_type": "markdown",
      "metadata": {
        "id": "iODYL0Nh20TI",
        "colab_type": "text"
      },
      "source": [
        "## scGMVAE\n",
        "This framework is modified from scVI with a Gaussian mixture latent variable variantion."
      ]
    },
    {
      "cell_type": "code",
      "metadata": {
        "id": "EEqc-nd120TK",
        "colab_type": "code",
        "outputId": "b952bb2a-252f-4255-eb8e-c9048a84afab",
        "colab": {
          "base_uri": "https://localhost:8080/",
          "height": 571
        }
      },
      "source": [
        "!pip install scanpy\n",
        "# !pip3 install pyro-ppl"
      ],
      "execution_count": 479,
      "outputs": [
        {
          "output_type": "stream",
          "text": [
            "Requirement already satisfied: scanpy in /usr/local/lib/python3.6/dist-packages (1.4.4.post1)\n",
            "Requirement already satisfied: tqdm in /usr/local/lib/python3.6/dist-packages (from scanpy) (4.28.1)\n",
            "Requirement already satisfied: seaborn in /usr/local/lib/python3.6/dist-packages (from scanpy) (0.9.0)\n",
            "Requirement already satisfied: scikit-learn!=0.21.0,!=0.21.1,>=0.19.1 in /usr/local/lib/python3.6/dist-packages (from scanpy) (0.21.3)\n",
            "Requirement already satisfied: natsort in /usr/local/lib/python3.6/dist-packages (from scanpy) (5.5.0)\n",
            "Requirement already satisfied: matplotlib==3.0.* in /usr/local/lib/python3.6/dist-packages (from scanpy) (3.0.3)\n",
            "Requirement already satisfied: umap-learn>=0.3.0 in /usr/local/lib/python3.6/dist-packages (from scanpy) (0.3.10)\n",
            "Requirement already satisfied: joblib in /usr/local/lib/python3.6/dist-packages (from scanpy) (0.14.1)\n",
            "Requirement already satisfied: patsy in /usr/local/lib/python3.6/dist-packages (from scanpy) (0.5.1)\n",
            "Requirement already satisfied: scipy>=1.3 in /usr/local/lib/python3.6/dist-packages (from scanpy) (1.3.3)\n",
            "Requirement already satisfied: tables in /usr/local/lib/python3.6/dist-packages (from scanpy) (3.4.4)\n",
            "Requirement already satisfied: networkx in /usr/local/lib/python3.6/dist-packages (from scanpy) (2.4)\n",
            "Requirement already satisfied: pandas>=0.21 in /usr/local/lib/python3.6/dist-packages (from scanpy) (0.25.3)\n",
            "Requirement already satisfied: importlib-metadata>=0.7; python_version < \"3.8\" in /usr/local/lib/python3.6/dist-packages (from scanpy) (1.3.0)\n",
            "Requirement already satisfied: anndata>=0.6.22rc1 in /usr/local/lib/python3.6/dist-packages (from scanpy) (0.7rc1)\n",
            "Requirement already satisfied: numba>=0.41.0 in /usr/local/lib/python3.6/dist-packages (from scanpy) (0.46.0)\n",
            "Requirement already satisfied: h5py in /usr/local/lib/python3.6/dist-packages (from scanpy) (2.8.0)\n",
            "Requirement already satisfied: statsmodels>=0.10.0rc2 in /usr/local/lib/python3.6/dist-packages (from scanpy) (0.10.2)\n",
            "Requirement already satisfied: numpy>=1.9.3 in /usr/local/lib/python3.6/dist-packages (from seaborn->scanpy) (1.17.4)\n",
            "Requirement already satisfied: python-dateutil>=2.1 in /usr/local/lib/python3.6/dist-packages (from matplotlib==3.0.*->scanpy) (2.6.1)\n",
            "Requirement already satisfied: cycler>=0.10 in /usr/local/lib/python3.6/dist-packages (from matplotlib==3.0.*->scanpy) (0.10.0)\n",
            "Requirement already satisfied: pyparsing!=2.0.4,!=2.1.2,!=2.1.6,>=2.0.1 in /usr/local/lib/python3.6/dist-packages (from matplotlib==3.0.*->scanpy) (2.4.5)\n",
            "Requirement already satisfied: kiwisolver>=1.0.1 in /usr/local/lib/python3.6/dist-packages (from matplotlib==3.0.*->scanpy) (1.1.0)\n",
            "Requirement already satisfied: six in /usr/local/lib/python3.6/dist-packages (from patsy->scanpy) (1.12.0)\n",
            "Requirement already satisfied: numexpr>=2.5.2 in /usr/local/lib/python3.6/dist-packages (from tables->scanpy) (2.7.0)\n",
            "Requirement already satisfied: decorator>=4.3.0 in /usr/local/lib/python3.6/dist-packages (from networkx->scanpy) (4.4.1)\n",
            "Requirement already satisfied: pytz>=2017.2 in /usr/local/lib/python3.6/dist-packages (from pandas>=0.21->scanpy) (2018.9)\n",
            "Requirement already satisfied: zipp>=0.5 in /usr/local/lib/python3.6/dist-packages (from importlib-metadata>=0.7; python_version < \"3.8\"->scanpy) (0.6.0)\n",
            "Requirement already satisfied: llvmlite>=0.30.0dev0 in /usr/local/lib/python3.6/dist-packages (from numba>=0.41.0->scanpy) (0.30.0)\n",
            "Requirement already satisfied: setuptools in /usr/local/lib/python3.6/dist-packages (from kiwisolver>=1.0.1->matplotlib==3.0.*->scanpy) (42.0.2)\n",
            "Requirement already satisfied: more-itertools in /usr/local/lib/python3.6/dist-packages (from zipp>=0.5->importlib-metadata>=0.7; python_version < \"3.8\"->scanpy) (8.0.2)\n"
          ],
          "name": "stdout"
        }
      ]
    },
    {
      "cell_type": "code",
      "metadata": {
        "id": "UWNJcCQT20TO",
        "colab_type": "code",
        "colab": {}
      },
      "source": [
        "import torch\n",
        "import torch.nn as nn\n",
        "import torch.nn.functional as F\n",
        "from torch.autograd import Variable"
      ],
      "execution_count": 0,
      "outputs": []
    },
    {
      "cell_type": "code",
      "metadata": {
        "id": "aBoklrrp20TQ",
        "colab_type": "code",
        "colab": {}
      },
      "source": [
        "import scanpy as sc"
      ],
      "execution_count": 0,
      "outputs": []
    },
    {
      "cell_type": "code",
      "metadata": {
        "id": "dNa7NIGR20TV",
        "colab_type": "code",
        "colab": {}
      },
      "source": [
        "import anndata\n",
        "from torch.distributions import Categorical, Normal, kl_divergence as kl\n",
        "import numpy as np\n",
        "import matplotlib.pyplot as plt"
      ],
      "execution_count": 0,
      "outputs": []
    },
    {
      "cell_type": "code",
      "metadata": {
        "id": "kzDMc4Ow20TX",
        "colab_type": "code",
        "colab": {}
      },
      "source": [
        "from sklearn.decomposition import PCA\n",
        "from sklearn.metrics import silhouette_score\n",
        "from sklearn.metrics import normalized_mutual_info_score as NMI\n",
        "from sklearn.metrics import adjusted_rand_score as ARI"
      ],
      "execution_count": 0,
      "outputs": []
    },
    {
      "cell_type": "code",
      "metadata": {
        "id": "AXppF5Te20Ta",
        "colab_type": "code",
        "colab": {}
      },
      "source": [
        "from sklearn.cluster import KMeans\n",
        "import sklearn"
      ],
      "execution_count": 0,
      "outputs": []
    },
    {
      "cell_type": "markdown",
      "metadata": {
        "id": "J3Ery_p120Tc",
        "colab_type": "text"
      },
      "source": [
        "# Read data"
      ]
    },
    {
      "cell_type": "code",
      "metadata": {
        "id": "GaCC2x2q20Tc",
        "colab_type": "code",
        "colab": {}
      },
      "source": [
        "class AnnDataset(torch.utils.data.Dataset):\n",
        "    def __init__(self, X_ann):\n",
        "        # TODO\n",
        "        # 1. Initialize file paths or a list of file names.\n",
        "        self.X = X_ann.obsm['X']\n",
        "        self.local_mean = X_ann.obs['local_mean']\n",
        "        self.local_var = X_ann.obs['local_var']\n",
        "#        self.batch_index = X_ann.obs['batch_index']\n",
        "#        self.fake_labels = X_ann.obs['fake_labels']\n",
        "    def __getitem__(self, index):\n",
        "        # TODO\n",
        "        # 1. Read one data from file (e.g. using numpy.fromfile, PIL.Image.open).\n",
        "        sample_x = self.X[index]\n",
        "        sample_local_mean = self.local_mean[index]\n",
        "        sample_local_var = self.local_var[index]\n",
        "#        sample_batch_index = self.batch_index[index]\n",
        "#        sample_fake_labels = self.fake_labels[index]\n",
        "\n",
        "        sample = {'x': sample_x, 'local_mean':sample_local_mean,'local_var':sample_local_var}\n",
        "#                 'batch_index':sample_batch_index,'fake_labels':sample_fake_labels}\n",
        "        return sample\n",
        "\n",
        "    def __len__(self):\n",
        "        # the total size of your dataset.\n",
        "        return len(self.X)\n",
        "\n"
      ],
      "execution_count": 0,
      "outputs": []
    },
    {
      "cell_type": "code",
      "metadata": {
        "id": "b8h7m99820Te",
        "colab_type": "code",
        "colab": {}
      },
      "source": [
        "raw_adata = sc.read_h5ad(\"cortex_scAnnData.h5ad\")"
      ],
      "execution_count": 0,
      "outputs": []
    },
    {
      "cell_type": "code",
      "metadata": {
        "id": "k-FpWUIn20Tg",
        "colab_type": "code",
        "outputId": "cf231e1a-bafc-42f9-cc38-ecfa87584052",
        "colab": {
          "base_uri": "https://localhost:8080/",
          "height": 34
        }
      },
      "source": [
        "raw_adata.obsm"
      ],
      "execution_count": 487,
      "outputs": [
        {
          "output_type": "execute_result",
          "data": {
            "text/plain": [
              "AxisArrays with keys: X, X_pca, X_tsne, X_umap"
            ]
          },
          "metadata": {
            "tags": []
          },
          "execution_count": 487
        }
      ]
    },
    {
      "cell_type": "code",
      "metadata": {
        "id": "lfHSCyp620Tk",
        "colab_type": "code",
        "outputId": "9daa369e-ea03-4c47-dc25-d1d9ff69f17f",
        "colab": {
          "base_uri": "https://localhost:8080/",
          "height": 241
        }
      },
      "source": [
        "raw_adata.obsm['X']"
      ],
      "execution_count": 488,
      "outputs": [
        {
          "output_type": "execute_result",
          "data": {
            "text/plain": [
              "array([[8.220e+02, 0.000e+00, 0.000e+00, ..., 7.000e+00, 1.000e+01,\n",
              "        6.000e+00],\n",
              "       [8.690e+02, 0.000e+00, 0.000e+00, ..., 9.000e+00, 0.000e+00,\n",
              "        1.100e+01],\n",
              "       [1.237e+03, 1.000e+00, 0.000e+00, ..., 1.000e+01, 5.000e+00,\n",
              "        1.800e+01],\n",
              "       ...,\n",
              "       [3.760e+02, 0.000e+00, 0.000e+00, ..., 1.000e+00, 1.000e+00,\n",
              "        0.000e+00],\n",
              "       [3.030e+02, 0.000e+00, 0.000e+00, ..., 0.000e+00, 0.000e+00,\n",
              "        0.000e+00],\n",
              "       [2.420e+02, 2.800e+01, 0.000e+00, ..., 0.000e+00, 0.000e+00,\n",
              "        2.000e+00]], dtype=float32)"
            ]
          },
          "metadata": {
            "tags": []
          },
          "execution_count": 488
        }
      ]
    },
    {
      "cell_type": "code",
      "metadata": {
        "id": "zm-1OWVV20Tm",
        "colab_type": "code",
        "colab": {}
      },
      "source": [
        "local_mean = np.log(raw_adata.obsm['X'].sum(axis=1)).mean()\n",
        "\n",
        "local_var = np.log(raw_adata.obsm['X'].sum(axis=1)).var()\n",
        "\n",
        "raw_adata.obs['local_mean'] = local_mean\n",
        "\n",
        "raw_adata.obs['local_var'] = local_var\n",
        "\n",
        "#raw_adata.obs['clusters'] = raw_adata.obs['Group']\n",
        "BATCH_SIZE = 128\n",
        "\n",
        "ann_dataset = AnnDataset(raw_adata)\n",
        "train_loader = torch.utils.data.DataLoader(dataset=ann_dataset,\n",
        "                                           batch_size=BATCH_SIZE, \n",
        "                                           shuffle=True,drop_last = True)"
      ],
      "execution_count": 0,
      "outputs": []
    },
    {
      "cell_type": "markdown",
      "metadata": {
        "id": "SqDvYI2b20To",
        "colab_type": "text"
      },
      "source": [
        "# Loss"
      ]
    },
    {
      "cell_type": "code",
      "metadata": {
        "id": "QJK0Uvns20Tp",
        "colab_type": "code",
        "colab": {}
      },
      "source": [
        "def log_zinb_positive(x, mu, theta, pi, eps=1e-8):\n",
        "    \"\"\"\n",
        "    Variables:\n",
        "    mu: mean of the negative binomial (has to be positive support) (shape: minibatch x genes)\n",
        "    theta: inverse dispersion parameter (has to be positive support) (shape: minibatch x genes)\n",
        "    pi: logit of the dropout parameter (real support) (shape: minibatch x genes)\n",
        "    eps: numerical stability constant\n",
        "    \"\"\"\n",
        "\n",
        "    # theta is the dispersion rate. If .ndimension() == 1, it is shared for all cells (regardless of batch or labels)\n",
        "    if theta.ndimension() == 1:\n",
        "        theta = theta.view(\n",
        "            1, theta.size(0)\n",
        "        )  # In this case, we reshape theta for broadcasting\n",
        "\n",
        "    softplus_pi = F.softplus(-pi)\n",
        "    #print(\"softplus_pi\", softplus_pi)\n",
        "    log_theta_eps = torch.log(theta + eps)\n",
        "    #print(\"log_theta_eps\", log_theta_eps)\n",
        "    log_theta_mu_eps = torch.log(theta + mu + eps)\n",
        "    #print(\"log_theta_mu_eps\", log_theta_mu_eps)\n",
        "    pi_theta_log = -pi + theta * (log_theta_eps - log_theta_mu_eps)\n",
        "    #print(\"pi_theta_log\", pi_theta_log)\n",
        "\n",
        "    case_zero = F.softplus(pi_theta_log) - softplus_pi\n",
        "    #print(\"case_zero\", case_zero)\n",
        "    mul_case_zero = torch.mul((x < eps).type(torch.float32), case_zero)\n",
        "    #print(\"mul_case_zero\", mul_case_zero)\n",
        "\n",
        "    case_non_zero = (\n",
        "        -softplus_pi\n",
        "        + pi_theta_log\n",
        "        + x * (torch.log(mu + eps) - log_theta_mu_eps)\n",
        "        + torch.lgamma(x + theta)\n",
        "        - torch.lgamma(theta)\n",
        "        - torch.lgamma(x + 1)\n",
        "    )\n",
        "    mul_case_non_zero = torch.mul((x > eps).type(torch.float32), case_non_zero)\n",
        "\n",
        "    res = mul_case_zero + mul_case_non_zero\n",
        "\n",
        "    return res\n",
        "  \n",
        "def log_normal(x, mu, var, eps = 0.0, dim = 0):\n",
        "    if eps > 0.0:\n",
        "        var = var + eps\n",
        "    return torch.sum(-1/2 * (torch.log(2 * torch.tensor(np.pi)) + torch.log(var) + (x - mu)**2 / var), dim = 1)"
      ],
      "execution_count": 0,
      "outputs": []
    },
    {
      "cell_type": "markdown",
      "metadata": {
        "id": "cypNcKQq20Tt",
        "colab_type": "text"
      },
      "source": [
        "# Model"
      ]
    },
    {
      "cell_type": "markdown",
      "metadata": {
        "id": "AlYvb5ww6Gzc",
        "colab_type": "text"
      },
      "source": [
        "## Q(Y|X) Encoder"
      ]
    },
    {
      "cell_type": "code",
      "metadata": {
        "id": "OkyoqYKP20Tu",
        "colab_type": "code",
        "colab": {}
      },
      "source": [
        "class qy_given_x_encoder(nn.Module):\n",
        "    def __init__(self, n_in, n_hidden, n_clusters):\n",
        "        super(qy_given_x_encoder, self).__init__()\n",
        "        self.encoder = nn.Sequential(\n",
        "            nn.Linear(n_in, n_hidden),\n",
        "            nn.BatchNorm1d(n_hidden, momentum=0.01, eps=0.001),\n",
        "            nn.ReLU(),\n",
        "          )\n",
        "        \n",
        "        self.logits = nn.Sequential(\n",
        "            nn.Linear(n_hidden, n_clusters),\n",
        "            nn.BatchNorm1d(n_clusters),\n",
        "            nn.Sigmoid(),\n",
        "        )\n",
        "\n",
        "    def forward(self, x):\n",
        "        x = self.encoder(x)\n",
        "\n",
        "        logit = self.logits(x)\n",
        "\n",
        "        q_y_given_x = Categorical(logits=logit)\n",
        "\n",
        "        return q_y_given_x"
      ],
      "execution_count": 0,
      "outputs": []
    },
    {
      "cell_type": "markdown",
      "metadata": {
        "id": "hN4QLFCKQKQU",
        "colab_type": "text"
      },
      "source": [
        "## Q(Z|X,Y) Encoder"
      ]
    },
    {
      "cell_type": "code",
      "metadata": {
        "id": "c1DhldmKQJUA",
        "colab_type": "code",
        "colab": {}
      },
      "source": [
        "class qz_given_xy_encoder(nn.Module):\n",
        "    def __init__(self, \n",
        "                 n_in, \n",
        "                 n_clusters,\n",
        "                 n_hidden, \n",
        "                 n_out, \n",
        "                 n_iw_samples, \n",
        "                 n_mc_samples, \n",
        "                 latent_size):\n",
        "      \n",
        "      super(qz_given_xy_encoder, self).__init__()\n",
        "      self.n_clusters = n_clusters\n",
        "      self.n_iw_samples = n_iw_samples\n",
        "      self.n_mc_samples = n_mc_samples\n",
        "      self.latent_size = latent_size\n",
        "\n",
        "      self.encoder = nn.Sequential(\n",
        "          nn.Linear(n_in + n_clusters, n_hidden),\n",
        "          nn.BatchNorm1d(n_hidden),\n",
        "          nn.ReLU()\n",
        "      )\n",
        "      self.mean_encoder = nn.Linear(n_hidden, n_out)\n",
        "      self.var_encoder = nn.Sequential(\n",
        "          nn.Linear(n_hidden, n_out),\n",
        "          nn.Softplus()\n",
        "      )\n",
        "        \n",
        "    def forward(self, x: torch.Tensor, y):\n",
        "      y = y.unsqueeze(0).repeat(x.size(0),1)\n",
        "      cat = torch.cat([x,y], dim=1).cuda()\n",
        "      q = self.encoder(cat)\n",
        "      \n",
        "      q_m = self.mean_encoder(q)\n",
        "      q_v = self.var_encoder(q)\n",
        "\n",
        "      q_z_given_x_y = Normal(q_m, torch.sqrt(q_v))\n",
        "\n",
        "      z_mean = q_z_given_x_y.mean\n",
        "\n",
        "      z = q_z_given_x_y.rsample(torch.Size([\n",
        "                                  self.n_iw_samples * self.n_mc_samples\n",
        "                                ]))\n",
        "\n",
        "      return q_z_given_x_y, z_mean, z"
      ],
      "execution_count": 0,
      "outputs": []
    },
    {
      "cell_type": "markdown",
      "metadata": {
        "id": "yWZS8lKGzW50",
        "colab_type": "text"
      },
      "source": [
        "## P(Z|Y) Encoder"
      ]
    },
    {
      "cell_type": "code",
      "metadata": {
        "id": "nroGNVIizdeM",
        "colab_type": "code",
        "colab": {}
      },
      "source": [
        "class pz_given_y_encoder(nn.Module):\n",
        "    def __init__(self, n_in, n_hidden, n_out):\n",
        "        super(pz_given_y_encoder, self).__init__()\n",
        "\n",
        "        self.encoder = nn.Sequential(\n",
        "            nn.Linear(n_in, n_hidden),\n",
        "            nn.Dropout(0.1),\n",
        "            nn.ReLU()\n",
        "        )\n",
        "        self.mean_encoder = nn.Linear(n_hidden, n_out)\n",
        "        self.var_encoder = nn.Sequential(\n",
        "            nn.Linear(n_hidden, n_out),\n",
        "            nn.Softplus()\n",
        "        )\n",
        "        \n",
        "    def forward(self, y):\n",
        "        q = self.encoder(y)\n",
        "        \n",
        "        p_m = self.mean_encoder(q)\n",
        "        p_v = self.var_encoder(q)\n",
        "\n",
        "        p_z_given_y = Normal(p_m, torch.sqrt(p_v))\n",
        "\n",
        "        z_mean = p_z_given_y.mean\n",
        "        \n",
        "        return p_z_given_y, z_mean"
      ],
      "execution_count": 0,
      "outputs": []
    },
    {
      "cell_type": "markdown",
      "metadata": {
        "id": "2DViGpZR7BcD",
        "colab_type": "text"
      },
      "source": [
        "## P(X|Z) Decoder"
      ]
    },
    {
      "cell_type": "code",
      "metadata": {
        "id": "vwgok1dS20Tw",
        "colab_type": "code",
        "colab": {}
      },
      "source": [
        "class px_given_z_decoder(nn.Module):\n",
        "    def __init__(self, n_in, n_clusters, n_hidden, n_out):\n",
        "        super(px_given_z_decoder, self).__init__()\n",
        "        self.px_decoder = nn.Sequential(\n",
        "            nn.Linear(n_in, n_hidden),\n",
        "            nn.BatchNorm1d(n_hidden, momentum=0.01, eps=0.001),\n",
        "            nn.ReLU()\n",
        "        )\n",
        "        \n",
        "        self.decoder_pi = nn.Sequential(\n",
        "            nn.Linear(n_hidden, n_out),\n",
        "            nn.BatchNorm1d(n_out),\n",
        "            nn.Softplus(),\n",
        "        )\n",
        "\n",
        "        self.decoder_p = nn.Sequential(\n",
        "            nn.Linear(n_hidden, n_out),\n",
        "            nn.BatchNorm1d(n_out),\n",
        "            nn.Softplus(),\n",
        "        )\n",
        "\n",
        "        self.decoder_log_r = nn.Sequential(\n",
        "            nn.Linear(n_hidden, n_out),\n",
        "        )\n",
        "        \n",
        "    def forward(self, z: torch.Tensor):\n",
        "        z = self.px_decoder(z)\n",
        "        \n",
        "        pi = self.decoder_pi(z)\n",
        "        p = self.decoder_p(z)\n",
        "        log_r = self.decoder_log_r(z)\n",
        "\n",
        "        return pi, p, log_r"
      ],
      "execution_count": 0,
      "outputs": []
    },
    {
      "cell_type": "markdown",
      "metadata": {
        "id": "62rz0NC97IEn",
        "colab_type": "text"
      },
      "source": [
        "## GMVAE"
      ]
    },
    {
      "cell_type": "code",
      "metadata": {
        "id": "wf1PcBFt20T5",
        "colab_type": "code",
        "colab": {}
      },
      "source": [
        "class GMVAE(nn.Module):\n",
        "    def __init__(self, \n",
        "                 n_input, \n",
        "                 n_hidden=128, \n",
        "                 latent_size=32, \n",
        "                 n_clusters=7, \n",
        "                 n_iw_samples=1, \n",
        "                 n_mc_samples=1, \n",
        "                 kl_weight=1,\n",
        "                 warm_up_weight=1):\n",
        "        super(GMVAE, self).__init__()\n",
        "        self.latent_size = latent_size\n",
        "        self.n_iw_samples = n_iw_samples\n",
        "        self.n_mc_samples = n_mc_samples\n",
        "        self.n_clusters = n_clusters\n",
        "        self.warm_up_weight = warm_up_weight\n",
        "        self.kl_weight = kl_weight\n",
        "        self.recon_theta = nn.Parameter(\n",
        "              torch.abs(\n",
        "                  torch.randn(n_input)\n",
        "              ).clamp(0,100000)\n",
        "            ) \n",
        "\n",
        "        self.q_y_x_encoder = qy_given_x_encoder(n_input, n_hidden, n_clusters)\n",
        "        self.q_z_xy_encoder = nn.ModuleList([])\n",
        "        self.p_z_y_encoder = nn.ModuleList([])\n",
        "        self.p_x_z_decoder = nn.ModuleList([])\n",
        "\n",
        "        for k in range(n_clusters):\n",
        "            self.q_z_xy_encoder.append(qz_given_xy_encoder(\n",
        "                n_input, \n",
        "                n_clusters, \n",
        "                n_hidden, \n",
        "                self.latent_size, \n",
        "                self.n_iw_samples, \n",
        "                self.n_mc_samples, \n",
        "                self.latent_size\n",
        "              ))\n",
        "            self.p_z_y_encoder.append(\n",
        "                pz_given_y_encoder(n_clusters, n_hidden, self.latent_size).cuda()\n",
        "            )\n",
        "            self.p_x_z_decoder.append(\n",
        "                px_given_z_decoder(self.latent_size, n_clusters, n_hidden, n_input).cuda()\n",
        "            )\n",
        "\n",
        "        self.q_z_xy = [None] * self.n_clusters\n",
        "        self.p_z_y = [None] * self.n_clusters\n",
        "        self.z = [None] * self.n_clusters\n",
        "        kl_divergence_z_mean = [None] * self.n_clusters\n",
        "        log_p_x_given_z_mean = [None] * self.n_clusters\n",
        "        p_x_means = [None] * self.n_clusters\n",
        "        mean_of_p_x_given_z_variances = [None] * self.n_clusters\n",
        "        variance_of_p_x_given_z_means = [None] * self.n_clusters\n",
        "        self.p_z_mean = [None] * self.n_clusters\n",
        "        self.p_x_z = [None] * self.n_clusters\n",
        "        self.p_z_means = []\n",
        "        self.p_z_variances = []\n",
        "        self.q_z_means = []\n",
        "        self.q_z_variances = []\n",
        "\n",
        "        # p(y)\n",
        "        p_y_probabilities = torch.ones(self.n_clusters)/self.n_clusters\n",
        "        p_y_logits = torch.log(p_y_probabilities).cuda()\n",
        "        self.p_y = Categorical(logits=p_y_logits)\n",
        "        self.p_y_probabilities = self.p_y.probs.unsqueeze(0)\n",
        "        \n",
        "    def forward(self, x):\n",
        "      # Y latent space\n",
        "        # p(y)\n",
        "        p_y_samples = self.p_y.sample(sample_shape=torch.Size([x.size(0),1]))\n",
        "        self.p_y_samples = torch.zeros([x.size(0), self.n_clusters]).cuda()\n",
        "        for row in range(len(self.p_y_samples)):\n",
        "          self.p_y_samples[row][p_y_samples[row]] = 1\n",
        "\n",
        "        # q(y|x)\n",
        "        y = torch.eye(self.n_clusters).cuda()\n",
        "        self.q_y_x = self.q_y_x_encoder(x)\n",
        "        self.q_y_logits = torch.log(self.q_y_x.probs) - torch.log1p(-self.q_y_x.probs)\n",
        "        self.q_y_probabilities = torch.mean(self.q_y_x.probs, dim=0)\n",
        "\n",
        "\n",
        "      # Z Latent Space\n",
        "        z_mean = [None]*self.n_clusters\n",
        "        for k in range(self.n_clusters):\n",
        "          # q(z|x,y)\n",
        "          self.q_z_xy[k], z_mean[k], self.z[k] = self.q_z_xy_encoder[k](x, y[k])\n",
        "          \n",
        "          #p(z|y)\n",
        "          self.p_z_y[k], self.p_z_mean[k] = self.p_z_y_encoder[k](y[k].unsqueeze(0))\n",
        "\n",
        "        self.y = self.q_y_x.probs\n",
        "        \n",
        "      # Decoder X\n",
        "        pi = [None] * self.n_clusters\n",
        "        p = [None] * self.n_clusters\n",
        "        log_r = [None] * self.n_clusters\n",
        "        for k in range(self.n_clusters):\n",
        "          # p(x|z)\n",
        "          pi[k], p[k], log_r[k] = self.p_x_z_decoder[k](self.z[k].squeeze())\n",
        "\n",
        "      # Loss\n",
        "        kl_divergence_y = kl(self.q_y_x, self.p_y).mean()\n",
        "\n",
        "        z_reshaped = [\n",
        "            torch.reshape(\n",
        "                self.z[k],\n",
        "                shape=[\n",
        "                    self.n_iw_samples,\n",
        "                    self.n_mc_samples,\n",
        "                    -1,\n",
        "                    self.latent_size\n",
        "                ]\n",
        "            )\n",
        "            for k in range(self.n_clusters)\n",
        "        ]\n",
        "        \n",
        "        kl_divergence_z_mean = torch.zeros(x.size(0)).cuda()\n",
        "        reconstruct_losses = torch.zeros(self.n_clusters, x.size(0)).cuda()\n",
        "        for k in range(self.n_clusters):\n",
        "          log_q_z_given_x_y = torch.sum(\n",
        "              self.q_z_xy[k].log_prob(\n",
        "                  z_reshaped[k]\n",
        "              ),\n",
        "              -1\n",
        "          )\n",
        "\n",
        "          log_p_z_given_y = torch.sum(\n",
        "              self.p_z_y[k].log_prob(\n",
        "                  z_reshaped[k]\n",
        "              ),\n",
        "              -1\n",
        "          )\n",
        "\n",
        "          kl_divergence_z_mean += torch.mean(\n",
        "              log_q_z_given_x_y - log_p_z_given_y\n",
        "          ) * self.y[:,k]\n",
        "\n",
        "          reconstruct_losses[k] = -log_zinb_positive(x, pi[k], p[k], log_r[k]).sum(dim = 1)\n",
        "\n",
        "        self.pi = pi\n",
        "        self.p = p\n",
        "        self.log_r = log_r        \n",
        "\n",
        "        self.kl_divergence_z = torch.mean(kl_divergence_z_mean)\n",
        "        self.kl_divergence_y = torch.mean(kl_divergence_y)\n",
        "        self.reconstruction_error = torch.mean(reconstruct_losses)\n",
        "\n",
        "        self.lower_bound_weighted = (\n",
        "            self.reconstruction_error\n",
        "            + self.warm_up_weight * self.kl_weight * (\n",
        "                self.kl_divergence_z + kl_divergence_y\n",
        "            )\n",
        "        )\n",
        "\n",
        "        return self.lower_bound_weighted, self.kl_divergence_z, self.kl_divergence_y, self.reconstruction_error\n",
        "    \n",
        "    def get_latent_cluster(self, x):\n",
        "      with torch.no_grad():\n",
        "        y = torch.eye(self.n_clusters).cuda()\n",
        "        latent = torch.zeros(self.n_clusters, x.size(0),self.latent_size)\n",
        "        for k in range(self.n_clusters):\n",
        "          self.q_z_xy_encoder[k].eval()\n",
        "          _, _, z = self.q_z_xy_encoder[k](x, y[k])\n",
        "          latent[k] = z.squeeze()\n",
        "          self.q_z_xy_encoder[k].train()\n",
        "\n",
        "      return latent.permute(1,0,2)"
      ],
      "execution_count": 0,
      "outputs": []
    },
    {
      "cell_type": "markdown",
      "metadata": {
        "id": "5XSZJkNU20T7",
        "colab_type": "text"
      },
      "source": [
        "# Train"
      ]
    },
    {
      "cell_type": "code",
      "metadata": {
        "id": "Rjm-XAkE20T8",
        "colab_type": "code",
        "colab": {}
      },
      "source": [
        "gmvae = GMVAE(n_input=raw_adata.obsm['X'].shape[1], \n",
        "              n_hidden=128, \n",
        "              latent_size=32, \n",
        "              n_clusters=7,\n",
        "              kl_weight=1).cuda()\n",
        "\n",
        "learning_rate=1e-2\n",
        "weight_decay = 1e-6\n",
        "eps = 0.01\n",
        "epoch = 0\n",
        "params = gmvae.parameters()\n",
        "optimizer = torch.optim.AdamW(\n",
        "            params, lr=learning_rate, weight_decay=weight_decay\n",
        "        )   "
      ],
      "execution_count": 0,
      "outputs": []
    },
    {
      "cell_type": "code",
      "metadata": {
        "id": "f1DgI87220UB",
        "colab_type": "code",
        "colab": {}
      },
      "source": [
        "def train(model, train_loader,optimizer, val_loader = None, start_epoch = 0,num_epochs=30, seed=1,\n",
        "          save_path = \"train_with_tsne/\"):\n",
        "\n",
        "  scheduler = torch.optim.lr_scheduler.CosineAnnealingLR(optimizer, num_epochs)\n",
        "\n",
        "  for epoch in range(start_epoch,num_epochs):\n",
        "    print(optimizer.param_groups[0]['lr'])\n",
        "\n",
        "    for i, sample in enumerate(train_loader):\n",
        "      x = sample['x'].cuda()\n",
        "      \n",
        "      optimizer.zero_grad()\n",
        "      loss, kl_divergence_z, kl_divergence_y, reconstruction_error = model(x)\n",
        "      loss.backward()\n",
        "      param1 = optimizer.param_groups[0]\n",
        "      nn.utils.clip_grad_norm(model.parameters(), 5)\n",
        "      #print(param1)\n",
        "      optimizer.step()\n",
        "      param2 = optimizer.param_groups[0]\n",
        "      #print(param2)\n",
        "\n",
        "      if i % 5 == 0:\n",
        "          print(\"Epoch[{}/{}], Step [{}/{}],  Loss: {:.4f}, KL Div Z: {:.4f}, KL Div Y: {:.4f}, Recon Loss: {:.4f}\".format(\n",
        "                                  epoch, num_epochs, i, len(train_loader), loss.item(), kl_divergence_z.item(), kl_divergence_y.item(), reconstruction_error.item()))\n",
        "    scheduler.step()"
      ],
      "execution_count": 0,
      "outputs": []
    },
    {
      "cell_type": "code",
      "metadata": {
        "id": "GAf-Pj4120UJ",
        "colab_type": "code",
        "outputId": "47309e74-7a35-4bf1-dd3b-839506f2faff",
        "colab": {
          "base_uri": "https://localhost:8080/",
          "height": 1000
        }
      },
      "source": [
        "train(gmvae,train_loader,optimizer, num_epochs = 50, start_epoch=epoch)"
      ],
      "execution_count": 499,
      "outputs": [
        {
          "output_type": "stream",
          "text": [
            "0.01\n",
            "Epoch[0/50], Step [0/23],  Loss: 1271.6997, KL Div Z: 17.9513, KL Div Y: 0.1198, Recon Loss: 1253.6285\n"
          ],
          "name": "stdout"
        },
        {
          "output_type": "stream",
          "text": [
            "/usr/local/lib/python3.6/dist-packages/ipykernel_launcher.py:16: UserWarning: torch.nn.utils.clip_grad_norm is now deprecated in favor of torch.nn.utils.clip_grad_norm_.\n",
            "  app.launch_new_instance()\n"
          ],
          "name": "stderr"
        },
        {
          "output_type": "stream",
          "text": [
            "Epoch[0/50], Step [5/23],  Loss: 1275.4128, KL Div Z: 17.4782, KL Div Y: 0.1198, Recon Loss: 1257.8148\n",
            "Epoch[0/50], Step [10/23],  Loss: 1344.3419, KL Div Z: 17.2376, KL Div Y: 0.1197, Recon Loss: 1326.9846\n",
            "Epoch[0/50], Step [15/23],  Loss: 1331.7032, KL Div Z: 17.4591, KL Div Y: 0.1199, Recon Loss: 1314.1243\n",
            "Epoch[0/50], Step [20/23],  Loss: 1295.5509, KL Div Z: 17.2164, KL Div Y: 0.1194, Recon Loss: 1278.2152\n",
            "0.009990133642141357\n",
            "Epoch[1/50], Step [0/23],  Loss: 1326.8552, KL Div Z: 17.0217, KL Div Y: 0.1189, Recon Loss: 1309.7147\n",
            "Epoch[1/50], Step [5/23],  Loss: 1288.9768, KL Div Z: 18.1959, KL Div Y: 0.1192, Recon Loss: 1270.6617\n",
            "Epoch[1/50], Step [10/23],  Loss: 1267.0295, KL Div Z: 17.5810, KL Div Y: 0.1200, Recon Loss: 1249.3285\n",
            "Epoch[1/50], Step [15/23],  Loss: 1290.8887, KL Div Z: 17.6146, KL Div Y: 0.1194, Recon Loss: 1273.1547\n",
            "Epoch[1/50], Step [20/23],  Loss: 1285.7935, KL Div Z: 17.8159, KL Div Y: 0.1196, Recon Loss: 1267.8579\n",
            "0.00996057350657239\n",
            "Epoch[2/50], Step [0/23],  Loss: 1300.0510, KL Div Z: 17.3016, KL Div Y: 0.1199, Recon Loss: 1282.6296\n",
            "Epoch[2/50], Step [5/23],  Loss: 1247.0488, KL Div Z: 17.4030, KL Div Y: 0.1200, Recon Loss: 1229.5259\n",
            "Epoch[2/50], Step [10/23],  Loss: 1323.0850, KL Div Z: 18.2554, KL Div Y: 0.1200, Recon Loss: 1304.7096\n",
            "Epoch[2/50], Step [15/23],  Loss: 1279.4944, KL Div Z: 17.6208, KL Div Y: 0.1201, Recon Loss: 1261.7535\n",
            "Epoch[2/50], Step [20/23],  Loss: 1367.2841, KL Div Z: 18.0372, KL Div Y: 0.1199, Recon Loss: 1349.1270\n",
            "0.009911436253643444\n",
            "Epoch[3/50], Step [0/23],  Loss: 1253.4929, KL Div Z: 17.9697, KL Div Y: 0.1201, Recon Loss: 1235.4032\n",
            "Epoch[3/50], Step [5/23],  Loss: 1318.5128, KL Div Z: 18.0493, KL Div Y: 0.1198, Recon Loss: 1300.3438\n",
            "Epoch[3/50], Step [10/23],  Loss: 1278.8212, KL Div Z: 18.1665, KL Div Y: 0.1201, Recon Loss: 1260.5345\n",
            "Epoch[3/50], Step [15/23],  Loss: 1288.8359, KL Div Z: 17.8334, KL Div Y: 0.1201, Recon Loss: 1270.8823\n",
            "Epoch[3/50], Step [20/23],  Loss: 1269.2831, KL Div Z: 18.1325, KL Div Y: 0.1201, Recon Loss: 1251.0305\n",
            "0.009842915805643155\n",
            "Epoch[4/50], Step [0/23],  Loss: 1258.5251, KL Div Z: 17.9674, KL Div Y: 0.1202, Recon Loss: 1240.4375\n",
            "Epoch[4/50], Step [5/23],  Loss: 1250.2183, KL Div Z: 17.1022, KL Div Y: 0.1201, Recon Loss: 1232.9958\n",
            "Epoch[4/50], Step [10/23],  Loss: 1270.0994, KL Div Z: 17.6289, KL Div Y: 0.1202, Recon Loss: 1252.3502\n",
            "Epoch[4/50], Step [15/23],  Loss: 1296.6464, KL Div Z: 17.9348, KL Div Y: 0.1202, Recon Loss: 1278.5913\n",
            "Epoch[4/50], Step [20/23],  Loss: 1296.2008, KL Div Z: 18.0668, KL Div Y: 0.1202, Recon Loss: 1278.0139\n",
            "0.009755282581475769\n",
            "Epoch[5/50], Step [0/23],  Loss: 1335.7775, KL Div Z: 17.8724, KL Div Y: 0.1194, Recon Loss: 1317.7858\n",
            "Epoch[5/50], Step [5/23],  Loss: 1268.7942, KL Div Z: 17.3036, KL Div Y: 0.1203, Recon Loss: 1251.3704\n",
            "Epoch[5/50], Step [10/23],  Loss: 1289.3257, KL Div Z: 18.5137, KL Div Y: 0.1203, Recon Loss: 1270.6918\n",
            "Epoch[5/50], Step [15/23],  Loss: 1242.9862, KL Div Z: 17.9491, KL Div Y: 0.1203, Recon Loss: 1224.9169\n",
            "Epoch[5/50], Step [20/23],  Loss: 1241.1499, KL Div Z: 17.1991, KL Div Y: 0.1203, Recon Loss: 1223.8306\n",
            "0.009648882429441256\n",
            "Epoch[6/50], Step [0/23],  Loss: 1290.4868, KL Div Z: 17.6738, KL Div Y: 0.1202, Recon Loss: 1272.6929\n",
            "Epoch[6/50], Step [5/23],  Loss: 1300.7805, KL Div Z: 18.1463, KL Div Y: 0.1199, Recon Loss: 1282.5143\n",
            "Epoch[6/50], Step [10/23],  Loss: 1275.0828, KL Div Z: 17.8701, KL Div Y: 0.1199, Recon Loss: 1257.0928\n",
            "Epoch[6/50], Step [15/23],  Loss: 1324.9460, KL Div Z: 17.1826, KL Div Y: 0.1202, Recon Loss: 1307.6432\n",
            "Epoch[6/50], Step [20/23],  Loss: 1283.6865, KL Div Z: 17.9235, KL Div Y: 0.1193, Recon Loss: 1265.6438\n",
            "0.009524135262330098\n",
            "Epoch[7/50], Step [0/23],  Loss: 1247.8304, KL Div Z: 18.4580, KL Div Y: 0.1198, Recon Loss: 1229.2526\n",
            "Epoch[7/50], Step [5/23],  Loss: 1264.6050, KL Div Z: 17.4790, KL Div Y: 0.1204, Recon Loss: 1247.0056\n",
            "Epoch[7/50], Step [10/23],  Loss: 1279.7386, KL Div Z: 17.8209, KL Div Y: 0.1197, Recon Loss: 1261.7981\n",
            "Epoch[7/50], Step [15/23],  Loss: 1265.5519, KL Div Z: 18.3106, KL Div Y: 0.1198, Recon Loss: 1247.1216\n",
            "Epoch[7/50], Step [20/23],  Loss: 1247.0859, KL Div Z: 17.6768, KL Div Y: 0.1204, Recon Loss: 1229.2887\n",
            "0.009381533400219317\n",
            "Epoch[8/50], Step [0/23],  Loss: 1244.6178, KL Div Z: 17.6036, KL Div Y: 0.1204, Recon Loss: 1226.8938\n",
            "Epoch[8/50], Step [5/23],  Loss: 1297.8381, KL Div Z: 17.8463, KL Div Y: 0.1203, Recon Loss: 1279.8715\n",
            "Epoch[8/50], Step [10/23],  Loss: 1266.0819, KL Div Z: 18.7842, KL Div Y: 0.1203, Recon Loss: 1247.1775\n",
            "Epoch[8/50], Step [15/23],  Loss: 1247.3844, KL Div Z: 17.8711, KL Div Y: 0.1203, Recon Loss: 1229.3929\n",
            "Epoch[8/50], Step [20/23],  Loss: 1252.1814, KL Div Z: 17.5023, KL Div Y: 0.1204, Recon Loss: 1234.5586\n",
            "0.009221639627510075\n",
            "Epoch[9/50], Step [0/23],  Loss: 1283.5242, KL Div Z: 17.6435, KL Div Y: 0.1205, Recon Loss: 1265.7603\n",
            "Epoch[9/50], Step [5/23],  Loss: 1293.0587, KL Div Z: 18.1700, KL Div Y: 0.1205, Recon Loss: 1274.7683\n",
            "Epoch[9/50], Step [10/23],  Loss: 1310.8560, KL Div Z: 17.8323, KL Div Y: 0.1205, Recon Loss: 1292.9032\n",
            "Epoch[9/50], Step [15/23],  Loss: 1233.3605, KL Div Z: 18.3523, KL Div Y: 0.1200, Recon Loss: 1214.8881\n",
            "Epoch[9/50], Step [20/23],  Loss: 1256.1034, KL Div Z: 17.5865, KL Div Y: 0.1204, Recon Loss: 1238.3965\n",
            "0.009045084971874737\n",
            "Epoch[10/50], Step [0/23],  Loss: 1235.8683, KL Div Z: 17.5916, KL Div Y: 0.1204, Recon Loss: 1218.1562\n",
            "Epoch[10/50], Step [5/23],  Loss: 1247.2816, KL Div Z: 17.9753, KL Div Y: 0.1199, Recon Loss: 1229.1864\n",
            "Epoch[10/50], Step [10/23],  Loss: 1198.9552, KL Div Z: 18.3324, KL Div Y: 0.1202, Recon Loss: 1180.5026\n",
            "Epoch[10/50], Step [15/23],  Loss: 1294.6163, KL Div Z: 17.6768, KL Div Y: 0.1205, Recon Loss: 1276.8190\n",
            "Epoch[10/50], Step [20/23],  Loss: 1359.8877, KL Div Z: 17.9658, KL Div Y: 0.1204, Recon Loss: 1341.8015\n",
            "0.008852566213878947\n",
            "Epoch[11/50], Step [0/23],  Loss: 1261.1882, KL Div Z: 18.3828, KL Div Y: 0.1201, Recon Loss: 1242.6854\n",
            "Epoch[11/50], Step [5/23],  Loss: 1258.9059, KL Div Z: 18.3276, KL Div Y: 0.1204, Recon Loss: 1240.4579\n"
          ],
          "name": "stdout"
        },
        {
          "output_type": "error",
          "ename": "KeyboardInterrupt",
          "evalue": "ignored",
          "traceback": [
            "\u001b[0;31m---------------------------------------------------------------------------\u001b[0m",
            "\u001b[0;31mKeyboardInterrupt\u001b[0m                         Traceback (most recent call last)",
            "\u001b[0;32m<ipython-input-499-36cb146cda00>\u001b[0m in \u001b[0;36m<module>\u001b[0;34m()\u001b[0m\n\u001b[0;32m----> 1\u001b[0;31m \u001b[0mtrain\u001b[0m\u001b[0;34m(\u001b[0m\u001b[0mgmvae\u001b[0m\u001b[0;34m,\u001b[0m\u001b[0mtrain_loader\u001b[0m\u001b[0;34m,\u001b[0m\u001b[0moptimizer\u001b[0m\u001b[0;34m,\u001b[0m \u001b[0mnum_epochs\u001b[0m \u001b[0;34m=\u001b[0m \u001b[0;36m50\u001b[0m\u001b[0;34m,\u001b[0m \u001b[0mstart_epoch\u001b[0m\u001b[0;34m=\u001b[0m\u001b[0mepoch\u001b[0m\u001b[0;34m)\u001b[0m\u001b[0;34m\u001b[0m\u001b[0;34m\u001b[0m\u001b[0m\n\u001b[0m",
            "\u001b[0;32m<ipython-input-497-f75993dd152a>\u001b[0m in \u001b[0;36mtrain\u001b[0;34m(model, train_loader, optimizer, val_loader, start_epoch, num_epochs, seed, save_path)\u001b[0m\n\u001b[1;32m     12\u001b[0m       \u001b[0moptimizer\u001b[0m\u001b[0;34m.\u001b[0m\u001b[0mzero_grad\u001b[0m\u001b[0;34m(\u001b[0m\u001b[0;34m)\u001b[0m\u001b[0;34m\u001b[0m\u001b[0;34m\u001b[0m\u001b[0m\n\u001b[1;32m     13\u001b[0m       \u001b[0mloss\u001b[0m\u001b[0;34m,\u001b[0m \u001b[0mkl_divergence_z\u001b[0m\u001b[0;34m,\u001b[0m \u001b[0mkl_divergence_y\u001b[0m\u001b[0;34m,\u001b[0m \u001b[0mreconstruction_error\u001b[0m \u001b[0;34m=\u001b[0m \u001b[0mmodel\u001b[0m\u001b[0;34m(\u001b[0m\u001b[0mx\u001b[0m\u001b[0;34m)\u001b[0m\u001b[0;34m\u001b[0m\u001b[0;34m\u001b[0m\u001b[0m\n\u001b[0;32m---> 14\u001b[0;31m       \u001b[0mloss\u001b[0m\u001b[0;34m.\u001b[0m\u001b[0mbackward\u001b[0m\u001b[0;34m(\u001b[0m\u001b[0;34m)\u001b[0m\u001b[0;34m\u001b[0m\u001b[0;34m\u001b[0m\u001b[0m\n\u001b[0m\u001b[1;32m     15\u001b[0m       \u001b[0mparam1\u001b[0m \u001b[0;34m=\u001b[0m \u001b[0moptimizer\u001b[0m\u001b[0;34m.\u001b[0m\u001b[0mparam_groups\u001b[0m\u001b[0;34m[\u001b[0m\u001b[0;36m0\u001b[0m\u001b[0;34m]\u001b[0m\u001b[0;34m\u001b[0m\u001b[0;34m\u001b[0m\u001b[0m\n\u001b[1;32m     16\u001b[0m       \u001b[0mnn\u001b[0m\u001b[0;34m.\u001b[0m\u001b[0mutils\u001b[0m\u001b[0;34m.\u001b[0m\u001b[0mclip_grad_norm\u001b[0m\u001b[0;34m(\u001b[0m\u001b[0mmodel\u001b[0m\u001b[0;34m.\u001b[0m\u001b[0mparameters\u001b[0m\u001b[0;34m(\u001b[0m\u001b[0;34m)\u001b[0m\u001b[0;34m,\u001b[0m \u001b[0;36m5\u001b[0m\u001b[0;34m)\u001b[0m\u001b[0;34m\u001b[0m\u001b[0;34m\u001b[0m\u001b[0m\n",
            "\u001b[0;32m/usr/local/lib/python3.6/dist-packages/torch/tensor.py\u001b[0m in \u001b[0;36mbackward\u001b[0;34m(self, gradient, retain_graph, create_graph)\u001b[0m\n\u001b[1;32m    164\u001b[0m                 \u001b[0mproducts\u001b[0m\u001b[0;34m.\u001b[0m \u001b[0mDefaults\u001b[0m \u001b[0mto\u001b[0m\u001b[0;31m \u001b[0m\u001b[0;31m`\u001b[0m\u001b[0;31m`\u001b[0m\u001b[0;32mFalse\u001b[0m\u001b[0;31m`\u001b[0m\u001b[0;31m`\u001b[0m\u001b[0;34m.\u001b[0m\u001b[0;34m\u001b[0m\u001b[0;34m\u001b[0m\u001b[0m\n\u001b[1;32m    165\u001b[0m         \"\"\"\n\u001b[0;32m--> 166\u001b[0;31m         \u001b[0mtorch\u001b[0m\u001b[0;34m.\u001b[0m\u001b[0mautograd\u001b[0m\u001b[0;34m.\u001b[0m\u001b[0mbackward\u001b[0m\u001b[0;34m(\u001b[0m\u001b[0mself\u001b[0m\u001b[0;34m,\u001b[0m \u001b[0mgradient\u001b[0m\u001b[0;34m,\u001b[0m \u001b[0mretain_graph\u001b[0m\u001b[0;34m,\u001b[0m \u001b[0mcreate_graph\u001b[0m\u001b[0;34m)\u001b[0m\u001b[0;34m\u001b[0m\u001b[0;34m\u001b[0m\u001b[0m\n\u001b[0m\u001b[1;32m    167\u001b[0m \u001b[0;34m\u001b[0m\u001b[0m\n\u001b[1;32m    168\u001b[0m     \u001b[0;32mdef\u001b[0m \u001b[0mregister_hook\u001b[0m\u001b[0;34m(\u001b[0m\u001b[0mself\u001b[0m\u001b[0;34m,\u001b[0m \u001b[0mhook\u001b[0m\u001b[0;34m)\u001b[0m\u001b[0;34m:\u001b[0m\u001b[0;34m\u001b[0m\u001b[0;34m\u001b[0m\u001b[0m\n",
            "\u001b[0;32m/usr/local/lib/python3.6/dist-packages/torch/autograd/__init__.py\u001b[0m in \u001b[0;36mbackward\u001b[0;34m(tensors, grad_tensors, retain_graph, create_graph, grad_variables)\u001b[0m\n\u001b[1;32m     97\u001b[0m     Variable._execution_engine.run_backward(\n\u001b[1;32m     98\u001b[0m         \u001b[0mtensors\u001b[0m\u001b[0;34m,\u001b[0m \u001b[0mgrad_tensors\u001b[0m\u001b[0;34m,\u001b[0m \u001b[0mretain_graph\u001b[0m\u001b[0;34m,\u001b[0m \u001b[0mcreate_graph\u001b[0m\u001b[0;34m,\u001b[0m\u001b[0;34m\u001b[0m\u001b[0;34m\u001b[0m\u001b[0m\n\u001b[0;32m---> 99\u001b[0;31m         allow_unreachable=True)  # allow_unreachable flag\n\u001b[0m\u001b[1;32m    100\u001b[0m \u001b[0;34m\u001b[0m\u001b[0m\n\u001b[1;32m    101\u001b[0m \u001b[0;34m\u001b[0m\u001b[0m\n",
            "\u001b[0;31mKeyboardInterrupt\u001b[0m: "
          ]
        }
      ]
    },
    {
      "cell_type": "markdown",
      "metadata": {
        "id": "lcFntUPdIF3I",
        "colab_type": "text"
      },
      "source": [
        "# Evaluation"
      ]
    },
    {
      "cell_type": "code",
      "metadata": {
        "id": "dZJmMwWG20UM",
        "colab_type": "code",
        "colab": {}
      },
      "source": [
        "latent = gmvae.get_latent_cluster(torch.Tensor(raw_adata.obsm['X']).cuda())"
      ],
      "execution_count": 0,
      "outputs": []
    },
    {
      "cell_type": "code",
      "metadata": {
        "id": "sH6m_ZAsjk8m",
        "colab_type": "code",
        "colab": {
          "base_uri": "https://localhost:8080/",
          "height": 34
        },
        "outputId": "3b033c78-c879-48ff-9d0c-c3ca444a6ac0"
      },
      "source": [
        "latent.size()"
      ],
      "execution_count": 510,
      "outputs": [
        {
          "output_type": "execute_result",
          "data": {
            "text/plain": [
              "torch.Size([3005, 7, 32])"
            ]
          },
          "metadata": {
            "tags": []
          },
          "execution_count": 510
        }
      ]
    },
    {
      "cell_type": "code",
      "metadata": {
        "id": "UEJtHRmO20UQ",
        "colab_type": "code",
        "colab": {
          "base_uri": "https://localhost:8080/",
          "height": 34
        },
        "outputId": "ccac942a-2bad-4819-86f9-514f3b39df49"
      },
      "source": [
        "latent = np.argmax(latent,axis=1)\n",
        "latent.shape"
      ],
      "execution_count": 511,
      "outputs": [
        {
          "output_type": "execute_result",
          "data": {
            "text/plain": [
              "torch.Size([3005, 32])"
            ]
          },
          "metadata": {
            "tags": []
          },
          "execution_count": 511
        }
      ]
    },
    {
      "cell_type": "code",
      "metadata": {
        "id": "B3RfS6TSEcQk",
        "colab_type": "code",
        "colab": {}
      },
      "source": [
        "post_adata = sc.AnnData(X=raw_adata.X)\n",
        "post_adata.obsm[\"X_dca\"] = latent.cpu().detach().numpy()\n",
        "post_adata.obs['cell_type'] = raw_adata.obs['clusters']"
      ],
      "execution_count": 0,
      "outputs": []
    },
    {
      "cell_type": "code",
      "metadata": {
        "id": "LtmkYO28Erzl",
        "colab_type": "code",
        "colab": {
          "base_uri": "https://localhost:8080/",
          "height": 71
        },
        "outputId": "cf748ee0-eb48-43bd-b047-63b0fcb82ae9"
      },
      "source": [
        "sc.pp.neighbors(post_adata, use_rep=\"X_dca\", n_neighbors=15)\n",
        "sc.tl.umap(post_adata, min_dist=0.1)"
      ],
      "execution_count": 513,
      "outputs": [
        {
          "output_type": "stream",
          "text": [
            "/usr/local/lib/python3.6/dist-packages/scanpy/neighbors/__init__.py:89: DeprecationWarning: Use is_view instead of isview, isview will be removed in the future.\n",
            "  if adata.isview:  # we shouldn't need this here...\n"
          ],
          "name": "stderr"
        }
      ]
    },
    {
      "cell_type": "code",
      "metadata": {
        "id": "1oimWZdqEuJ9",
        "colab_type": "code",
        "colab": {}
      },
      "source": [
        "%matplotlib inline\n",
        "import matplotlib.pyplot as plt"
      ],
      "execution_count": 0,
      "outputs": []
    },
    {
      "cell_type": "code",
      "metadata": {
        "id": "wZh1imBREv4m",
        "colab_type": "code",
        "colab": {
          "base_uri": "https://localhost:8080/",
          "height": 387
        },
        "outputId": "7e2e91ce-504d-4e6d-8126-1d8eff588df7"
      },
      "source": [
        "fig, ax = plt.subplots(figsize=(7, 6))\n",
        "sc.pl.umap(post_adata, color=[\"cell_type\"], ax=ax)"
      ],
      "execution_count": 515,
      "outputs": [
        {
          "output_type": "display_data",
          "data": {
            "image/png": "[encoded data removed]",
            "text/plain": [
              "<Figure size 504x432 with 1 Axes>"
            ]
          },
          "metadata": {
            "tags": []
          }
        }
      ]
    },
    {
      "cell_type": "code",
      "metadata": {
        "id": "_y9RrBvdOhGN",
        "colab_type": "code",
        "colab": {}
      },
      "source": [
        "raw_adata.obs['clusters']"
      ],
      "execution_count": 0,
      "outputs": []
    },
    {
      "cell_type": "code",
      "metadata": {
        "id": "cAOkq01420UT",
        "colab_type": "code",
        "colab": {}
      },
      "source": [
        "ARI(l,raw_adata.obs['clusters'])"
      ],
      "execution_count": 0,
      "outputs": []
    },
    {
      "cell_type": "code",
      "metadata": {
        "id": "_jmjMnte20UW",
        "colab_type": "code",
        "colab": {}
      },
      "source": [
        "NMI(l,raw_adata.obs['clusters'])"
      ],
      "execution_count": 0,
      "outputs": []
    },
    {
      "cell_type": "code",
      "metadata": {
        "id": "_zHSSZGW20Ui",
        "colab_type": "code",
        "colab": {}
      },
      "source": [
        "post_adata = anndata.AnnData(X=raw_adata.X)\n",
        "post_adata.obsm[\"X_scVI\"] = latent.detach().numpy()\n",
        "post_adata.obs['cell_type'] = raw_adata.obs['clusters']"
      ],
      "execution_count": 0,
      "outputs": []
    },
    {
      "cell_type": "code",
      "metadata": {
        "id": "rP1SMZqT20Uj",
        "colab_type": "code",
        "colab": {}
      },
      "source": [
        "sc.pp.neighbors(post_adata, use_rep=\"X_scVI\", n_neighbors=15)\n",
        "sc.tl.umap(post_adata, min_dist=0.1)"
      ],
      "execution_count": 0,
      "outputs": []
    },
    {
      "cell_type": "code",
      "metadata": {
        "id": "Iml1_Ipd20Uo",
        "colab_type": "code",
        "colab": {}
      },
      "source": [
        "fig, ax = plt.subplots(figsize=(7, 6))\n",
        "sc.pl.umap(post_adata, color=[\"cell_type\"], ax=ax)#, show=show_plot)"
      ],
      "execution_count": 0,
      "outputs": []
    },
    {
      "cell_type": "code",
      "metadata": {
        "id": "W24YopBR20Uq",
        "colab_type": "code",
        "colab": {}
      },
      "source": [
        "sc.tl.tsne(post_adata, use_rep=\"X_scVI\")\n",
        "sc.pl.tsne(post_adata,color=['cell_type'])#,save=\"_cortex_scvi.png\")"
      ],
      "execution_count": 0,
      "outputs": []
    },
    {
      "cell_type": "code",
      "metadata": {
        "id": "oq5zqmM020Ur",
        "colab_type": "code",
        "colab": {}
      },
      "source": [
        "from sklearn.cluster import KMeans\n",
        "\n",
        "out = KMeans(n_clusters=7).fit(latent)\n",
        "\n",
        "out.labels_\n",
        "\n",
        "sklearn.metrics.normalized_mutual_info_score(out.labels_,raw_adata.obs['clusters'])"
      ],
      "execution_count": 0,
      "outputs": []
    },
    {
      "cell_type": "code",
      "metadata": {
        "id": "FGyzrRDK20Uu",
        "colab_type": "code",
        "colab": {}
      },
      "source": [
        "sklearn.metrics.adjusted_rand_score(out.labels_,raw_adata.obs['clusters'])"
      ],
      "execution_count": 0,
      "outputs": []
    }
  ]
}