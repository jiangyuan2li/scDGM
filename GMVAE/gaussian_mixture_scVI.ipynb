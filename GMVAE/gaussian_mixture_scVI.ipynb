{
 "cells": [
  {
   "cell_type": "markdown",
   "metadata": {},
   "source": [
    "# GMVAE\n",
    "This framework is modified from scVI with a Gaussian mixture latent variable variantion."
   ]
  },
  {
   "cell_type": "code",
   "execution_count": 1,
   "metadata": {},
   "outputs": [],
   "source": [
    "import torch.nn as nn\n",
    "import torch.nn.functional as F\n",
    "import torch\n",
    "import scanpy as sc\n",
    "import anndata\n",
    "from torch.distributions import Normal, kl_divergence as kl\n",
    "import numpy as np\n",
    "import matplotlib.pyplot as plt"
   ]
  },
  {
   "cell_type": "code",
   "execution_count": 2,
   "metadata": {},
   "outputs": [],
   "source": [
    "from sklearn.metrics import silhouette_score\n",
    "from sklearn.metrics import normalized_mutual_info_score as NMI\n",
    "from sklearn.metrics import adjusted_rand_score as ARI"
   ]
  },
  {
   "cell_type": "code",
   "execution_count": 3,
   "metadata": {},
   "outputs": [],
   "source": [
    "from sklearn.cluster import KMeans\n",
    "import sklearn"
   ]
  },
  {
   "cell_type": "markdown",
   "metadata": {},
   "source": [
    "# Read data"
   ]
  },
  {
   "cell_type": "code",
   "execution_count": 4,
   "metadata": {},
   "outputs": [],
   "source": [
    "class AnnDataset(torch.utils.data.Dataset):\n",
    "    def __init__(self, X_ann):\n",
    "        # TODO\n",
    "        # 1. Initialize file paths or a list of file names.\n",
    "        self.X = X_ann.obsm['X']\n",
    "        self.local_mean = X_ann.obs['local_mean']\n",
    "        self.local_var = X_ann.obs['local_var']\n",
    "#        self.batch_index = X_ann.obs['batch_index']\n",
    "#        self.fake_labels = X_ann.obs['fake_labels']\n",
    "    def __getitem__(self, index):\n",
    "        # TODO\n",
    "        # 1. Read one data from file (e.g. using numpy.fromfile, PIL.Image.open).\n",
    "        sample_x = self.X[index]\n",
    "        sample_local_mean = self.local_mean[index]\n",
    "        sample_local_var = self.local_var[index]\n",
    "#        sample_batch_index = self.batch_index[index]\n",
    "#        sample_fake_labels = self.fake_labels[index]\n",
    "\n",
    "        sample = {'x': sample_x, 'local_mean':sample_local_mean,'local_var':sample_local_var}\n",
    "#                 'batch_index':sample_batch_index,'fake_labels':sample_fake_labels}\n",
    "        return sample\n",
    "\n",
    "    def __len__(self):\n",
    "        # the total size of your dataset.\n",
    "        return len(self.X)\n",
    "\n"
   ]
  },
  {
   "cell_type": "code",
   "execution_count": 5,
   "metadata": {},
   "outputs": [],
   "source": [
    "raw_adata = sc.read_h5ad(\"../data/cortex_scAnnData.h5ad\")"
   ]
  },
  {
   "cell_type": "code",
   "execution_count": 6,
   "metadata": {},
   "outputs": [
    {
     "data": {
      "text/plain": [
       "AxisArrays with keys: X, X_pca, X_tsne, X_umap"
      ]
     },
     "execution_count": 6,
     "metadata": {},
     "output_type": "execute_result"
    }
   ],
   "source": [
    "raw_adata.obsm"
   ]
  },
  {
   "cell_type": "code",
   "execution_count": 7,
   "metadata": {},
   "outputs": [
    {
     "data": {
      "text/plain": [
       "array([[8.220e+02, 0.000e+00, 0.000e+00, ..., 7.000e+00, 1.000e+01,\n",
       "        6.000e+00],\n",
       "       [8.690e+02, 0.000e+00, 0.000e+00, ..., 9.000e+00, 0.000e+00,\n",
       "        1.100e+01],\n",
       "       [1.237e+03, 1.000e+00, 0.000e+00, ..., 1.000e+01, 5.000e+00,\n",
       "        1.800e+01],\n",
       "       ...,\n",
       "       [3.760e+02, 0.000e+00, 0.000e+00, ..., 1.000e+00, 1.000e+00,\n",
       "        0.000e+00],\n",
       "       [3.030e+02, 0.000e+00, 0.000e+00, ..., 0.000e+00, 0.000e+00,\n",
       "        0.000e+00],\n",
       "       [2.420e+02, 2.800e+01, 0.000e+00, ..., 0.000e+00, 0.000e+00,\n",
       "        2.000e+00]], dtype=float32)"
      ]
     },
     "execution_count": 7,
     "metadata": {},
     "output_type": "execute_result"
    }
   ],
   "source": [
    "raw_adata.obsm['X']"
   ]
  },
  {
   "cell_type": "code",
   "execution_count": 8,
   "metadata": {},
   "outputs": [],
   "source": [
    "local_mean = np.log(raw_adata.obsm['X'].sum(axis=1)).mean()\n",
    "\n",
    "local_var = np.log(raw_adata.obsm['X'].sum(axis=1)).var()\n",
    "\n",
    "raw_adata.obs['local_mean'] = local_mean\n",
    "\n",
    "raw_adata.obs['local_var'] = local_var\n",
    "\n",
    "#raw_adata.obs['clusters'] = raw_adata.obs['Group']\n",
    "BATCH_SIZE = 128\n",
    "\n",
    "ann_dataset = AnnDataset(raw_adata)\n",
    "train_loader = torch.utils.data.DataLoader(dataset=ann_dataset,\n",
    "                                           batch_size=BATCH_SIZE, \n",
    "                                           shuffle=True,drop_last = True)"
   ]
  },
  {
   "cell_type": "markdown",
   "metadata": {},
   "source": [
    "# Loss"
   ]
  },
  {
   "cell_type": "code",
   "execution_count": 9,
   "metadata": {},
   "outputs": [],
   "source": [
    "def log_zinb_positive(x, mu, theta, pi, eps=1e-8):\n",
    "\n",
    "    # theta is the dispersion rate. If .ndimension() == 1, it is shared for all cells (regardless of batch or labels)\n",
    "    if theta.ndimension() == 1:\n",
    "        theta = theta.view(\n",
    "            1, theta.size(0)\n",
    "        )  # In this case, we reshape theta for broadcasting\n",
    "\n",
    "    softplus_pi = F.softplus(-pi)\n",
    "    log_theta_eps = torch.log(theta + eps)\n",
    "    log_theta_mu_eps = torch.log(theta + mu + eps)\n",
    "    pi_theta_log = -pi + theta * (log_theta_eps - log_theta_mu_eps)\n",
    "\n",
    "    case_zero = F.softplus(pi_theta_log) - softplus_pi\n",
    "    mul_case_zero = torch.mul((x < eps).type(torch.float32), case_zero)\n",
    "\n",
    "    case_non_zero = (\n",
    "        -softplus_pi\n",
    "        + pi_theta_log\n",
    "        + x * (torch.log(mu + eps) - log_theta_mu_eps)\n",
    "        + torch.lgamma(x + theta)\n",
    "        - torch.lgamma(theta)\n",
    "        - torch.lgamma(x + 1)\n",
    "    )\n",
    "    mul_case_non_zero = torch.mul((x > eps).type(torch.float32), case_non_zero)\n",
    "\n",
    "    res = mul_case_zero + mul_case_non_zero\n",
    "\n",
    "    return res"
   ]
  },
  {
   "cell_type": "markdown",
   "metadata": {},
   "source": [
    "# Model"
   ]
  },
  {
   "cell_type": "code",
   "execution_count": 10,
   "metadata": {},
   "outputs": [],
   "source": [
    "def reparameterize_gaussian(mu, var):\n",
    "    return Normal(mu, var.sqrt()).rsample()\n",
    "\n",
    "class Encoder(nn.Module):\n",
    "    def __init__(self, n_in, n_hidden, n_out):\n",
    "        super().__init__()\n",
    "        self.encoder = nn.Sequential(nn.Linear(n_in, n_hidden),\n",
    "                                     nn.BatchNorm1d(n_hidden, momentum=0.01, eps=0.001),\n",
    "                                     nn.ReLU())\n",
    "        self.mean_encoder = nn.Linear(n_hidden, n_out)\n",
    "        self.var_encoder = nn.Linear(n_hidden, n_out)\n",
    "        \n",
    "    def forward(self, x: torch.Tensor):\n",
    "        \n",
    "        q = self.encoder(x)\n",
    "        \n",
    "        q_m = self.mean_encoder(q)\n",
    "        q_v = torch.exp(self.var_encoder(q)) + 1e-4\n",
    "        latent = reparameterize_gaussian(q_m, q_v)\n",
    "        \n",
    "        return q_m, q_v, latent\n",
    "    "
   ]
  },
  {
   "cell_type": "markdown",
   "metadata": {},
   "source": [
    "# GMVAE"
   ]
  },
  {
   "cell_type": "code",
   "execution_count": 11,
   "metadata": {},
   "outputs": [],
   "source": [
    "def reparameterize_gaussian(mu, var):\n",
    "    return Normal(mu, var.sqrt()).rsample()\n",
    "\n",
    "class qy_encoder(nn.Module):\n",
    "    def __init__(self, n_in, n_hidden, n_out):\n",
    "        super().__init__()\n",
    "        self.encoder = nn.Sequential(nn.Linear(n_in, n_hidden),\n",
    "                                     nn.BatchNorm1d(n_hidden, momentum=0.01, eps=0.001),\n",
    "                                     nn.ReLU(),\n",
    "                                    nn.Linear(n_hidden, n_out),\n",
    "                                    nn.Softmax())\n",
    "    def forward(self, x):\n",
    "        y = self.encoder(x)\n",
    "        return y\n",
    "\n",
    "class qz_encoder(nn.Module):\n",
    "    def __init__(self, n_in,k, n_hidden, n_out):\n",
    "        super().__init__()\n",
    "        self.encoder = nn.Sequential(nn.Linear(n_in + k, n_hidden),\n",
    "                                     nn.BatchNorm1d(n_hidden, momentum=0.01, eps=0.001),\n",
    "                                     nn.ReLU())\n",
    "        self.mean_encoder = nn.Linear(n_hidden, n_out)\n",
    "        self.var_encoder = nn.Linear(n_hidden, n_out)\n",
    "        \n",
    "    def forward(self, x: torch.Tensor, y):\n",
    "        y = y.expand(x.size(0),y.size(0))\n",
    "        q = self.encoder(torch.cat([x,y],dim=1))\n",
    "        \n",
    "        q_m = self.mean_encoder(q)\n",
    "        q_v = torch.exp(self.var_encoder(q)) + 1e-4\n",
    "        latent = reparameterize_gaussian(q_m, q_v)\n",
    "        \n",
    "        return q_m, q_v, latent"
   ]
  },
  {
   "cell_type": "code",
   "execution_count": 12,
   "metadata": {},
   "outputs": [],
   "source": [
    "class qx_decoder(nn.Module):\n",
    "    def __init__(self, n_in, k, n_hidden, n_out):\n",
    "        super().__init__()\n",
    "        self.zm_trans = nn.Sequential(nn.Linear(k, n_in))\n",
    "        self.zv_trans = nn.Sequential(nn.Linear(k,n_in), nn.Softplus())\n",
    "        \n",
    "        self.px_decoder = nn.Sequential(nn.Linear(n_in, n_hidden),\n",
    "                                    nn.BatchNorm1d(n_hidden, momentum=0.01, eps=0.001),\n",
    "                                    nn.ReLU())\n",
    "        # mean gamma\n",
    "        self.px_scale_decoder = nn.Sequential(\n",
    "            nn.Linear(n_hidden, n_out), nn.Softmax(dim=-1)\n",
    "        )        \n",
    "\n",
    "        # dropout\n",
    "        self.px_dropout_decoder = nn.Linear(n_hidden, n_out)\n",
    "\n",
    "        # dispersion: here we only deal with gene-cell dispersion case\n",
    "        self.px_r_decoder = nn.Linear(n_hidden, n_out)\n",
    "\n",
    "\n",
    "        \n",
    "    def forward(self, z: torch.Tensor, library: torch.Tensor, y:torch.Tensor):\n",
    "        \n",
    "        zm = self.zm_trans(y)\n",
    "        zv = self.zv_trans(y)\n",
    "        \n",
    "        px = self.px_decoder(z)\n",
    "        px_scale = self.px_scale_decoder(px)\n",
    "        px_rate = torch.exp(library) * px_scale  \n",
    "        # torch.clamp( , max=12)\n",
    "\n",
    "        px_dropout = self.px_dropout_decoder(px)\n",
    "        \n",
    "        px_r = self.px_r_decoder(px) \n",
    "\n",
    "        return px_scale, px_r, px_rate, px_dropout, zm, zv"
   ]
  },
  {
   "cell_type": "code",
   "execution_count": 13,
   "metadata": {},
   "outputs": [],
   "source": [
    "def log_normal(x, mu, var, eps = 0.0, dim = 0):\n",
    "    if eps > 0.0:\n",
    "        var = var + eps\n",
    "    return torch.sum(-1/2 * (torch.log(2 * torch.tensor(np.pi)) + torch.log(var) + (x - mu)**2 / var), dim = 1)"
   ]
  },
  {
   "cell_type": "code",
   "execution_count": null,
   "metadata": {},
   "outputs": [],
   "source": []
  },
  {
   "cell_type": "code",
   "execution_count": 14,
   "metadata": {},
   "outputs": [],
   "source": [
    "class GMVAE(nn.Module):\n",
    "    def __init__(self,n_input, n_hidden = 128, n_latent_z = 32, k = 7):\n",
    "        super().__init__()\n",
    "        \n",
    "        self.k = k\n",
    "        \n",
    "        self.y_encoder = qy_encoder(n_input, n_hidden, k)\n",
    "        self.z_encoder_list =[None] * k\n",
    "        for i in range(k):\n",
    "            self.z_encoder_list[i] = qz_encoder(n_input, k, n_hidden, n_latent_z)\n",
    "        \n",
    "        self.l_encoder = Encoder(n_input, n_hidden, 1)\n",
    "        \n",
    "        self.decoder_z = qx_decoder(n_latent_z, k, n_hidden, n_input)\n",
    "        \n",
    "    #    self.decoder_pi = Decoder(n_latent_pi, n_hidden, n_input)\n",
    "        self.px_r = torch.nn.Parameter(torch.randn(n_input))\n",
    "        \n",
    "    def forward(self, x:torch.Tensor, local_l_mean, local_l_var):\n",
    "        x_ = x\n",
    "        x_ = torch.log(x_ + 1)\n",
    "        \n",
    "        k = self.k\n",
    "        \n",
    "        ql_m, ql_v, library = self.l_encoder(x_)\n",
    "    \n",
    "        kl_divergence_l = kl(Normal(ql_m, torch.sqrt(ql_v)),Normal(local_l_mean, torch.sqrt(local_l_var))).sum(dim=1)\n",
    "\n",
    "\n",
    "        y = self.y_encoder(x_)\n",
    "        \n",
    "        y_ = torch.Tensor(np.eye(self.k))\n",
    "        \n",
    "        z, zm, zv, zm_prior, zv_prior, px_scale, px_r, px_rate, px_dropout = [[None] * k for i in range(9)]\n",
    "        \n",
    "        losses = [None] * k\n",
    "        reconstruct_losses = [None] * k\n",
    "        log_normal_losses = [None] * k\n",
    "        \n",
    "        px_r = torch.exp(self.px_r)\n",
    "        for i in range(k):\n",
    "            zm[i], zv[i], z[i] = self.z_encoder_list[i](x, y_[i])\n",
    "            \n",
    "            _, _, px_rate[i], px_dropout[i], zm_prior[i], zv_prior[i] = self.decoder_z(z[i], library, y_[i])\n",
    "        \n",
    "            reconstruct_losses[i] = -log_zinb_positive(x, px_rate[i], px_r, px_dropout[i]).sum(dim = 1)\n",
    "            \n",
    "            log_normal_losses[i] = log_normal(z[i],zm[i],zv[i]) - log_normal(z[i],zm_prior[i],zv_prior[i])#kl(Normal(zm[i],torch.sqrt(zv[i])), Normal(zm_prior[i], torch.sqrt(zv_prior[i])))\n",
    "            \n",
    "            losses[i] = reconstruct_losses[i] + log_normal_losses[i]\n",
    "        \n",
    "        loss = 0.\n",
    "        entropy = 0\n",
    "        for i in range(k):\n",
    "            loss += y[:,i] * losses[i]\n",
    "            entropy += -y[:,i] * torch.log(y[:,i])\n",
    "        \n",
    "        entropy = torch.mean(entropy)\n",
    "        loss = torch.mean(loss)\n",
    "        return -entropy, loss\n",
    "    \n",
    "    def get_latent_cluster(self, x):\n",
    "        with torch.no_grad():\n",
    "            x_ = x\n",
    "            x_ = torch.log(1 + x_)\n",
    "        \n",
    "            y = self.y_encoder(x_)\n",
    "            \n",
    "        return y"
   ]
  },
  {
   "cell_type": "markdown",
   "metadata": {},
   "source": [
    "# Train"
   ]
  },
  {
   "cell_type": "code",
   "execution_count": 15,
   "metadata": {},
   "outputs": [],
   "source": [
    "gmvae = GMVAE(n_input = raw_adata.obsm['X'].shape[1],n_latent_z=2,n_hidden=128,k=7)\n",
    "learning_rate=1e-3\n",
    "weight_decay = 1e-6\n",
    "eps = 0.01\n",
    "epoch = -1\n",
    "params = gmvae.parameters()\n",
    "optimizer = torch.optim.Adam(\n",
    "            params, lr=learning_rate, eps=eps, weight_decay= weight_decay\n",
    "        )   "
   ]
  },
  {
   "cell_type": "code",
   "execution_count": 16,
   "metadata": {},
   "outputs": [],
   "source": [
    "def train(model, train_loader,optimizer, val_loader = None, start_epoch = 0,num_epochs=30, seed=1,\n",
    "          save_path = \"train_with_tsne/\"):\n",
    "\n",
    "    for epoch in range(start_epoch,num_epochs):\n",
    "        model.train()\n",
    "        print(optimizer.param_groups[0]['lr'])\n",
    "\n",
    "        for i, sample in enumerate(train_loader):\n",
    "            x = sample['x']\n",
    "            local_l_mean = sample['local_mean']\n",
    "            local_l_var = sample['local_var']\n",
    "            \n",
    "            neg_entropy, final = model(x, local_l_mean, local_l_var)\n",
    "\n",
    "            loss = neg_entropy + final\n",
    "            #loss = loss.mean()\n",
    "            optimizer.zero_grad()\n",
    "            loss.backward()\n",
    "            optimizer.step()\n",
    "     #       scheduler.step(loss)\n",
    "\n",
    "\n",
    "            if i % 5 == 0:\n",
    "                print(\"Epoch[{}/{}], Step [{}/{}],  Loss: {:.4f}, Neg Entropy: {:.4f}, Recon Loss: {:.4f}\".format(\n",
    "                                        epoch, num_epochs, i, len(train_loader), loss.item(), neg_entropy.item(), final.item()))\n",
    "\n",
    "\n",
    "\n"
   ]
  },
  {
   "cell_type": "code",
   "execution_count": 17,
   "metadata": {},
   "outputs": [
    {
     "name": "stdout",
     "output_type": "stream",
     "text": [
      "0.001\n"
     ]
    },
    {
     "name": "stderr",
     "output_type": "stream",
     "text": [
      "/home/grad/jiangyuanli/miniconda/envs/py37/lib/python3.7/site-packages/torch-1.2.0-py3.7-linux-x86_64.egg/torch/nn/modules/container.py:92: UserWarning: Implicit dimension choice for softmax has been deprecated. Change the call to include dim=X as an argument.\n",
      "  input = module(input)\n"
     ]
    },
    {
     "name": "stdout",
     "output_type": "stream",
     "text": [
      "Epoch[0/50], Step [0/23],  Loss: 36273.7695, Neg Entropy: -1.8863, Recon Loss: 36275.6562\n",
      "Epoch[0/50], Step [5/23],  Loss: 27720.9297, Neg Entropy: -1.7131, Recon Loss: 27722.6426\n",
      "Epoch[0/50], Step [10/23],  Loss: 24259.9277, Neg Entropy: -1.5546, Recon Loss: 24261.4824\n",
      "Epoch[0/50], Step [15/23],  Loss: 21425.0938, Neg Entropy: -1.4509, Recon Loss: 21426.5449\n",
      "Epoch[0/50], Step [20/23],  Loss: 21122.6445, Neg Entropy: -1.4217, Recon Loss: 21124.0664\n",
      "0.001\n",
      "Epoch[1/50], Step [0/23],  Loss: 20079.2793, Neg Entropy: -1.4212, Recon Loss: 20080.7012\n",
      "Epoch[1/50], Step [5/23],  Loss: 20732.9180, Neg Entropy: -1.4166, Recon Loss: 20734.3340\n",
      "Epoch[1/50], Step [10/23],  Loss: 16258.2598, Neg Entropy: -1.3697, Recon Loss: 16259.6299\n",
      "Epoch[1/50], Step [15/23],  Loss: 17347.4688, Neg Entropy: -1.3605, Recon Loss: 17348.8301\n",
      "Epoch[1/50], Step [20/23],  Loss: 14799.8379, Neg Entropy: -1.2910, Recon Loss: 14801.1289\n",
      "0.001\n",
      "Epoch[2/50], Step [0/23],  Loss: 14900.5996, Neg Entropy: -1.2982, Recon Loss: 14901.8975\n",
      "Epoch[2/50], Step [5/23],  Loss: 11964.4463, Neg Entropy: -1.3289, Recon Loss: 11965.7754\n",
      "Epoch[2/50], Step [10/23],  Loss: 11290.5127, Neg Entropy: -1.3098, Recon Loss: 11291.8223\n",
      "Epoch[2/50], Step [15/23],  Loss: 9681.2520, Neg Entropy: -1.3144, Recon Loss: 9682.5664\n",
      "Epoch[2/50], Step [20/23],  Loss: 9886.5000, Neg Entropy: -1.2515, Recon Loss: 9887.7520\n",
      "0.001\n",
      "Epoch[3/50], Step [0/23],  Loss: 10388.0361, Neg Entropy: -1.2576, Recon Loss: 10389.2939\n",
      "Epoch[3/50], Step [5/23],  Loss: 9005.3047, Neg Entropy: -1.2066, Recon Loss: 9006.5117\n",
      "Epoch[3/50], Step [10/23],  Loss: 7758.6084, Neg Entropy: -1.2413, Recon Loss: 7759.8496\n",
      "Epoch[3/50], Step [15/23],  Loss: 6748.7646, Neg Entropy: -1.2006, Recon Loss: 6749.9653\n",
      "Epoch[3/50], Step [20/23],  Loss: 6760.8042, Neg Entropy: -1.2058, Recon Loss: 6762.0103\n",
      "0.001\n",
      "Epoch[4/50], Step [0/23],  Loss: 5715.3242, Neg Entropy: -1.1969, Recon Loss: 5716.5210\n",
      "Epoch[4/50], Step [5/23],  Loss: 4914.7769, Neg Entropy: -1.2475, Recon Loss: 4916.0244\n",
      "Epoch[4/50], Step [10/23],  Loss: 4543.1094, Neg Entropy: -1.2032, Recon Loss: 4544.3125\n",
      "Epoch[4/50], Step [15/23],  Loss: 3623.9277, Neg Entropy: -1.1781, Recon Loss: 3625.1057\n",
      "Epoch[4/50], Step [20/23],  Loss: 3513.9167, Neg Entropy: -1.2045, Recon Loss: 3515.1211\n",
      "0.001\n",
      "Epoch[5/50], Step [0/23],  Loss: 3318.9509, Neg Entropy: -1.1666, Recon Loss: 3320.1174\n",
      "Epoch[5/50], Step [5/23],  Loss: 2902.6272, Neg Entropy: -1.2284, Recon Loss: 2903.8557\n",
      "Epoch[5/50], Step [10/23],  Loss: 2652.2551, Neg Entropy: -1.1462, Recon Loss: 2653.4014\n",
      "Epoch[5/50], Step [15/23],  Loss: 2290.5654, Neg Entropy: -1.1041, Recon Loss: 2291.6694\n",
      "Epoch[5/50], Step [20/23],  Loss: 3250.0073, Neg Entropy: -1.2577, Recon Loss: 3251.2651\n",
      "0.001\n",
      "Epoch[6/50], Step [0/23],  Loss: 2152.9968, Neg Entropy: -1.1411, Recon Loss: 2154.1379\n",
      "Epoch[6/50], Step [5/23],  Loss: 2175.4126, Neg Entropy: -1.1759, Recon Loss: 2176.5886\n",
      "Epoch[6/50], Step [10/23],  Loss: 2034.1223, Neg Entropy: -1.1904, Recon Loss: 2035.3127\n",
      "Epoch[6/50], Step [15/23],  Loss: 2181.7932, Neg Entropy: -1.2733, Recon Loss: 2183.0664\n",
      "Epoch[6/50], Step [20/23],  Loss: 2005.9896, Neg Entropy: -1.1864, Recon Loss: 2007.1760\n",
      "0.001\n",
      "Epoch[7/50], Step [0/23],  Loss: 1996.4911, Neg Entropy: -1.2008, Recon Loss: 1997.6919\n",
      "Epoch[7/50], Step [5/23],  Loss: 2018.5834, Neg Entropy: -1.1390, Recon Loss: 2019.7223\n",
      "Epoch[7/50], Step [10/23],  Loss: 1900.9236, Neg Entropy: -1.1626, Recon Loss: 1902.0862\n",
      "Epoch[7/50], Step [15/23],  Loss: 1956.1782, Neg Entropy: -1.2214, Recon Loss: 1957.3997\n",
      "Epoch[7/50], Step [20/23],  Loss: 1797.8191, Neg Entropy: -1.1733, Recon Loss: 1798.9924\n",
      "0.001\n",
      "Epoch[8/50], Step [0/23],  Loss: 1797.5790, Neg Entropy: -1.2084, Recon Loss: 1798.7874\n",
      "Epoch[8/50], Step [5/23],  Loss: 1917.3220, Neg Entropy: -1.0813, Recon Loss: 1918.4033\n",
      "Epoch[8/50], Step [10/23],  Loss: 1906.2493, Neg Entropy: -1.1635, Recon Loss: 1907.4128\n",
      "Epoch[8/50], Step [15/23],  Loss: 1863.3839, Neg Entropy: -1.1390, Recon Loss: 1864.5229\n",
      "Epoch[8/50], Step [20/23],  Loss: 1852.5942, Neg Entropy: -1.1198, Recon Loss: 1853.7140\n",
      "0.001\n",
      "Epoch[9/50], Step [0/23],  Loss: 1805.0402, Neg Entropy: -1.1420, Recon Loss: 1806.1821\n",
      "Epoch[9/50], Step [5/23],  Loss: 1668.1067, Neg Entropy: -1.1018, Recon Loss: 1669.2085\n",
      "Epoch[9/50], Step [10/23],  Loss: 1775.0441, Neg Entropy: -1.1528, Recon Loss: 1776.1969\n",
      "Epoch[9/50], Step [15/23],  Loss: 1827.8354, Neg Entropy: -1.1737, Recon Loss: 1829.0092\n",
      "Epoch[9/50], Step [20/23],  Loss: 1666.5820, Neg Entropy: -1.1017, Recon Loss: 1667.6837\n",
      "0.001\n",
      "Epoch[10/50], Step [0/23],  Loss: 1666.6620, Neg Entropy: -1.1271, Recon Loss: 1667.7891\n",
      "Epoch[10/50], Step [5/23],  Loss: 1697.4492, Neg Entropy: -1.1123, Recon Loss: 1698.5615\n",
      "Epoch[10/50], Step [10/23],  Loss: 1773.5242, Neg Entropy: -1.1740, Recon Loss: 1774.6981\n",
      "Epoch[10/50], Step [15/23],  Loss: 1894.6857, Neg Entropy: -1.1026, Recon Loss: 1895.7883\n",
      "Epoch[10/50], Step [20/23],  Loss: 1643.1312, Neg Entropy: -1.1470, Recon Loss: 1644.2782\n",
      "0.001\n",
      "Epoch[11/50], Step [0/23],  Loss: 1741.6115, Neg Entropy: -1.1747, Recon Loss: 1742.7861\n",
      "Epoch[11/50], Step [5/23],  Loss: 1716.8458, Neg Entropy: -1.1644, Recon Loss: 1718.0101\n",
      "Epoch[11/50], Step [10/23],  Loss: 1662.4590, Neg Entropy: -1.1475, Recon Loss: 1663.6064\n",
      "Epoch[11/50], Step [15/23],  Loss: 1709.1790, Neg Entropy: -1.1161, Recon Loss: 1710.2950\n",
      "Epoch[11/50], Step [20/23],  Loss: 1735.2461, Neg Entropy: -1.0848, Recon Loss: 1736.3309\n",
      "0.001\n",
      "Epoch[12/50], Step [0/23],  Loss: 1696.7004, Neg Entropy: -1.0991, Recon Loss: 1697.7996\n",
      "Epoch[12/50], Step [5/23],  Loss: 1652.4240, Neg Entropy: -1.1297, Recon Loss: 1653.5537\n",
      "Epoch[12/50], Step [10/23],  Loss: 1875.5055, Neg Entropy: -1.0659, Recon Loss: 1876.5714\n",
      "Epoch[12/50], Step [15/23],  Loss: 1659.9102, Neg Entropy: -1.0642, Recon Loss: 1660.9744\n",
      "Epoch[12/50], Step [20/23],  Loss: 1856.2856, Neg Entropy: -1.1212, Recon Loss: 1857.4069\n",
      "0.001\n",
      "Epoch[13/50], Step [0/23],  Loss: 1953.0990, Neg Entropy: -1.1508, Recon Loss: 1954.2498\n",
      "Epoch[13/50], Step [5/23],  Loss: 1748.0784, Neg Entropy: -1.0999, Recon Loss: 1749.1782\n",
      "Epoch[13/50], Step [10/23],  Loss: 1704.4902, Neg Entropy: -1.1557, Recon Loss: 1705.6460\n",
      "Epoch[13/50], Step [15/23],  Loss: 1922.1759, Neg Entropy: -1.0413, Recon Loss: 1923.2173\n",
      "Epoch[13/50], Step [20/23],  Loss: 1726.5073, Neg Entropy: -1.0418, Recon Loss: 1727.5492\n",
      "0.001\n",
      "Epoch[14/50], Step [0/23],  Loss: 1758.3429, Neg Entropy: -1.1398, Recon Loss: 1759.4827\n",
      "Epoch[14/50], Step [5/23],  Loss: 1911.7026, Neg Entropy: -1.0296, Recon Loss: 1912.7323\n",
      "Epoch[14/50], Step [10/23],  Loss: 1723.5085, Neg Entropy: -1.0998, Recon Loss: 1724.6084\n",
      "Epoch[14/50], Step [15/23],  Loss: 1804.7177, Neg Entropy: -1.0395, Recon Loss: 1805.7571\n",
      "Epoch[14/50], Step [20/23],  Loss: 1659.0134, Neg Entropy: -1.0545, Recon Loss: 1660.0680\n",
      "0.001\n",
      "Epoch[15/50], Step [0/23],  Loss: 1639.9301, Neg Entropy: -1.0867, Recon Loss: 1641.0167\n",
      "Epoch[15/50], Step [5/23],  Loss: 1637.2806, Neg Entropy: -1.0610, Recon Loss: 1638.3417\n",
      "Epoch[15/50], Step [10/23],  Loss: 1748.4622, Neg Entropy: -1.0874, Recon Loss: 1749.5496\n",
      "Epoch[15/50], Step [15/23],  Loss: 2306.3943, Neg Entropy: -1.1147, Recon Loss: 2307.5090\n",
      "Epoch[15/50], Step [20/23],  Loss: 1724.5465, Neg Entropy: -1.0527, Recon Loss: 1725.5991\n",
      "0.001\n",
      "Epoch[16/50], Step [0/23],  Loss: 1824.8346, Neg Entropy: -1.0490, Recon Loss: 1825.8837\n",
      "Epoch[16/50], Step [5/23],  Loss: 1640.2255, Neg Entropy: -0.9491, Recon Loss: 1641.1746\n",
      "Epoch[16/50], Step [10/23],  Loss: 1742.2936, Neg Entropy: -1.0511, Recon Loss: 1743.3447\n",
      "Epoch[16/50], Step [15/23],  Loss: 1793.7281, Neg Entropy: -1.0519, Recon Loss: 1794.7800\n",
      "Epoch[16/50], Step [20/23],  Loss: 1715.2159, Neg Entropy: -1.0375, Recon Loss: 1716.2534\n",
      "0.001\n",
      "Epoch[17/50], Step [0/23],  Loss: 1626.5955, Neg Entropy: -1.0270, Recon Loss: 1627.6224\n",
      "Epoch[17/50], Step [5/23],  Loss: 1670.7517, Neg Entropy: -1.0588, Recon Loss: 1671.8105\n",
      "Epoch[17/50], Step [10/23],  Loss: 1646.4071, Neg Entropy: -1.0293, Recon Loss: 1647.4364\n",
      "Epoch[17/50], Step [15/23],  Loss: 1749.5371, Neg Entropy: -1.0079, Recon Loss: 1750.5450\n",
      "Epoch[17/50], Step [20/23],  Loss: 1647.1344, Neg Entropy: -0.9760, Recon Loss: 1648.1104\n",
      "0.001\n",
      "Epoch[18/50], Step [0/23],  Loss: 1817.4657, Neg Entropy: -0.9920, Recon Loss: 1818.4578\n"
     ]
    },
    {
     "name": "stdout",
     "output_type": "stream",
     "text": [
      "Epoch[18/50], Step [5/23],  Loss: 1965.3199, Neg Entropy: -1.0490, Recon Loss: 1966.3689\n",
      "Epoch[18/50], Step [10/23],  Loss: 1591.3845, Neg Entropy: -0.9368, Recon Loss: 1592.3213\n",
      "Epoch[18/50], Step [15/23],  Loss: 1713.2795, Neg Entropy: -1.0492, Recon Loss: 1714.3287\n",
      "Epoch[18/50], Step [20/23],  Loss: 1826.4091, Neg Entropy: -1.0531, Recon Loss: 1827.4622\n",
      "0.001\n",
      "Epoch[19/50], Step [0/23],  Loss: 1668.2284, Neg Entropy: -0.9982, Recon Loss: 1669.2266\n",
      "Epoch[19/50], Step [5/23],  Loss: 1735.8693, Neg Entropy: -1.0865, Recon Loss: 1736.9557\n",
      "Epoch[19/50], Step [10/23],  Loss: 1613.7498, Neg Entropy: -0.9343, Recon Loss: 1614.6841\n",
      "Epoch[19/50], Step [15/23],  Loss: 1848.6293, Neg Entropy: -1.0541, Recon Loss: 1849.6835\n",
      "Epoch[19/50], Step [20/23],  Loss: 1716.4993, Neg Entropy: -0.9730, Recon Loss: 1717.4723\n",
      "0.001\n",
      "Epoch[20/50], Step [0/23],  Loss: 1669.2588, Neg Entropy: -0.9736, Recon Loss: 1670.2323\n",
      "Epoch[20/50], Step [5/23],  Loss: 1694.0125, Neg Entropy: -1.0710, Recon Loss: 1695.0834\n",
      "Epoch[20/50], Step [10/23],  Loss: 1661.4274, Neg Entropy: -0.9378, Recon Loss: 1662.3651\n",
      "Epoch[20/50], Step [15/23],  Loss: 1593.2476, Neg Entropy: -0.9660, Recon Loss: 1594.2136\n",
      "Epoch[20/50], Step [20/23],  Loss: 1666.3673, Neg Entropy: -0.9627, Recon Loss: 1667.3300\n",
      "0.001\n",
      "Epoch[21/50], Step [0/23],  Loss: 1686.2863, Neg Entropy: -1.0427, Recon Loss: 1687.3290\n",
      "Epoch[21/50], Step [5/23],  Loss: 1598.4603, Neg Entropy: -1.0195, Recon Loss: 1599.4799\n",
      "Epoch[21/50], Step [10/23],  Loss: 1658.5107, Neg Entropy: -0.9332, Recon Loss: 1659.4438\n",
      "Epoch[21/50], Step [15/23],  Loss: 1673.3845, Neg Entropy: -0.9583, Recon Loss: 1674.3428\n",
      "Epoch[21/50], Step [20/23],  Loss: 1757.5493, Neg Entropy: -1.0446, Recon Loss: 1758.5940\n",
      "0.001\n",
      "Epoch[22/50], Step [0/23],  Loss: 1644.1378, Neg Entropy: -0.9874, Recon Loss: 1645.1252\n",
      "Epoch[22/50], Step [5/23],  Loss: 1673.8231, Neg Entropy: -1.0353, Recon Loss: 1674.8584\n",
      "Epoch[22/50], Step [10/23],  Loss: 1635.3458, Neg Entropy: -0.9820, Recon Loss: 1636.3278\n",
      "Epoch[22/50], Step [15/23],  Loss: 1705.3000, Neg Entropy: -0.9908, Recon Loss: 1706.2908\n",
      "Epoch[22/50], Step [20/23],  Loss: 1681.0173, Neg Entropy: -0.9192, Recon Loss: 1681.9365\n",
      "0.001\n",
      "Epoch[23/50], Step [0/23],  Loss: 1701.8842, Neg Entropy: -0.9145, Recon Loss: 1702.7987\n",
      "Epoch[23/50], Step [5/23],  Loss: 1700.9309, Neg Entropy: -0.9327, Recon Loss: 1701.8636\n",
      "Epoch[23/50], Step [10/23],  Loss: 1686.0914, Neg Entropy: -0.8924, Recon Loss: 1686.9839\n",
      "Epoch[23/50], Step [15/23],  Loss: 1801.6664, Neg Entropy: -0.9732, Recon Loss: 1802.6396\n",
      "Epoch[23/50], Step [20/23],  Loss: 1850.5137, Neg Entropy: -0.9358, Recon Loss: 1851.4495\n",
      "0.001\n",
      "Epoch[24/50], Step [0/23],  Loss: 1603.8115, Neg Entropy: -0.8946, Recon Loss: 1604.7061\n",
      "Epoch[24/50], Step [5/23],  Loss: 1623.5048, Neg Entropy: -0.8242, Recon Loss: 1624.3290\n",
      "Epoch[24/50], Step [10/23],  Loss: 1688.1743, Neg Entropy: -0.9205, Recon Loss: 1689.0948\n",
      "Epoch[24/50], Step [15/23],  Loss: 1612.4576, Neg Entropy: -0.9496, Recon Loss: 1613.4072\n",
      "Epoch[24/50], Step [20/23],  Loss: 1616.0234, Neg Entropy: -0.8813, Recon Loss: 1616.9048\n",
      "0.001\n",
      "Epoch[25/50], Step [0/23],  Loss: 1708.9017, Neg Entropy: -0.9848, Recon Loss: 1709.8865\n",
      "Epoch[25/50], Step [5/23],  Loss: 1637.4680, Neg Entropy: -0.9355, Recon Loss: 1638.4034\n",
      "Epoch[25/50], Step [10/23],  Loss: 1614.6022, Neg Entropy: -0.8677, Recon Loss: 1615.4698\n",
      "Epoch[25/50], Step [15/23],  Loss: 1681.4194, Neg Entropy: -0.8667, Recon Loss: 1682.2861\n",
      "Epoch[25/50], Step [20/23],  Loss: 1678.4420, Neg Entropy: -0.8919, Recon Loss: 1679.3339\n",
      "0.001\n",
      "Epoch[26/50], Step [0/23],  Loss: 1617.3164, Neg Entropy: -0.9471, Recon Loss: 1618.2634\n",
      "Epoch[26/50], Step [5/23],  Loss: 1670.5336, Neg Entropy: -0.8644, Recon Loss: 1671.3979\n",
      "Epoch[26/50], Step [10/23],  Loss: 1771.8690, Neg Entropy: -1.0231, Recon Loss: 1772.8921\n",
      "Epoch[26/50], Step [15/23],  Loss: 1660.1857, Neg Entropy: -0.9235, Recon Loss: 1661.1091\n",
      "Epoch[26/50], Step [20/23],  Loss: 1666.1990, Neg Entropy: -0.9641, Recon Loss: 1667.1631\n",
      "0.001\n",
      "Epoch[27/50], Step [0/23],  Loss: 1599.4200, Neg Entropy: -0.8964, Recon Loss: 1600.3165\n",
      "Epoch[27/50], Step [5/23],  Loss: 1608.0254, Neg Entropy: -0.8384, Recon Loss: 1608.8638\n",
      "Epoch[27/50], Step [10/23],  Loss: 1603.4360, Neg Entropy: -0.9347, Recon Loss: 1604.3707\n",
      "Epoch[27/50], Step [15/23],  Loss: 1591.9214, Neg Entropy: -0.8978, Recon Loss: 1592.8192\n",
      "Epoch[27/50], Step [20/23],  Loss: 1608.6011, Neg Entropy: -0.9106, Recon Loss: 1609.5117\n",
      "0.001\n",
      "Epoch[28/50], Step [0/23],  Loss: 1652.9353, Neg Entropy: -0.9087, Recon Loss: 1653.8440\n",
      "Epoch[28/50], Step [5/23],  Loss: 1627.9252, Neg Entropy: -0.8719, Recon Loss: 1628.7970\n",
      "Epoch[28/50], Step [10/23],  Loss: 1719.0421, Neg Entropy: -0.9079, Recon Loss: 1719.9501\n",
      "Epoch[28/50], Step [15/23],  Loss: 1600.1796, Neg Entropy: -0.8697, Recon Loss: 1601.0493\n",
      "Epoch[28/50], Step [20/23],  Loss: 1653.3142, Neg Entropy: -0.9340, Recon Loss: 1654.2482\n",
      "0.001\n",
      "Epoch[29/50], Step [0/23],  Loss: 1655.6899, Neg Entropy: -0.9615, Recon Loss: 1656.6515\n",
      "Epoch[29/50], Step [5/23],  Loss: 1606.7073, Neg Entropy: -0.8501, Recon Loss: 1607.5574\n",
      "Epoch[29/50], Step [10/23],  Loss: 1725.7937, Neg Entropy: -0.8672, Recon Loss: 1726.6609\n",
      "Epoch[29/50], Step [15/23],  Loss: 1568.1794, Neg Entropy: -0.8702, Recon Loss: 1569.0497\n",
      "Epoch[29/50], Step [20/23],  Loss: 1634.2526, Neg Entropy: -0.8940, Recon Loss: 1635.1465\n",
      "0.001\n",
      "Epoch[30/50], Step [0/23],  Loss: 1601.0125, Neg Entropy: -0.8269, Recon Loss: 1601.8394\n",
      "Epoch[30/50], Step [5/23],  Loss: 1697.9170, Neg Entropy: -0.9078, Recon Loss: 1698.8248\n",
      "Epoch[30/50], Step [10/23],  Loss: 1554.9270, Neg Entropy: -0.7843, Recon Loss: 1555.7113\n",
      "Epoch[30/50], Step [15/23],  Loss: 1585.1483, Neg Entropy: -0.7840, Recon Loss: 1585.9324\n",
      "Epoch[30/50], Step [20/23],  Loss: 1681.3387, Neg Entropy: -0.9003, Recon Loss: 1682.2391\n",
      "0.001\n",
      "Epoch[31/50], Step [0/23],  Loss: 1583.7605, Neg Entropy: -0.7783, Recon Loss: 1584.5388\n",
      "Epoch[31/50], Step [5/23],  Loss: 1636.6187, Neg Entropy: -0.8984, Recon Loss: 1637.5171\n",
      "Epoch[31/50], Step [10/23],  Loss: 1572.8522, Neg Entropy: -0.7828, Recon Loss: 1573.6350\n",
      "Epoch[31/50], Step [15/23],  Loss: 1640.3920, Neg Entropy: -0.8183, Recon Loss: 1641.2102\n",
      "Epoch[31/50], Step [20/23],  Loss: 1579.7931, Neg Entropy: -0.7943, Recon Loss: 1580.5874\n",
      "0.001\n",
      "Epoch[32/50], Step [0/23],  Loss: 1674.8093, Neg Entropy: -0.7454, Recon Loss: 1675.5547\n",
      "Epoch[32/50], Step [5/23],  Loss: 1597.4241, Neg Entropy: -0.8507, Recon Loss: 1598.2748\n",
      "Epoch[32/50], Step [10/23],  Loss: 1615.1088, Neg Entropy: -0.8239, Recon Loss: 1615.9326\n",
      "Epoch[32/50], Step [15/23],  Loss: 1584.0870, Neg Entropy: -0.8730, Recon Loss: 1584.9600\n",
      "Epoch[32/50], Step [20/23],  Loss: 1635.6625, Neg Entropy: -0.8032, Recon Loss: 1636.4657\n",
      "0.001\n",
      "Epoch[33/50], Step [0/23],  Loss: 1541.0420, Neg Entropy: -0.7341, Recon Loss: 1541.7761\n",
      "Epoch[33/50], Step [5/23],  Loss: 1906.4626, Neg Entropy: -0.8247, Recon Loss: 1907.2874\n",
      "Epoch[33/50], Step [10/23],  Loss: 1647.3353, Neg Entropy: -0.7728, Recon Loss: 1648.1082\n",
      "Epoch[33/50], Step [15/23],  Loss: 1624.9827, Neg Entropy: -0.8311, Recon Loss: 1625.8137\n",
      "Epoch[33/50], Step [20/23],  Loss: 1606.6730, Neg Entropy: -0.7281, Recon Loss: 1607.4011\n",
      "0.001\n",
      "Epoch[34/50], Step [0/23],  Loss: 1613.5265, Neg Entropy: -0.7819, Recon Loss: 1614.3083\n",
      "Epoch[34/50], Step [5/23],  Loss: 1881.1169, Neg Entropy: -0.8294, Recon Loss: 1881.9463\n",
      "Epoch[34/50], Step [10/23],  Loss: 1709.0066, Neg Entropy: -0.7870, Recon Loss: 1709.7936\n",
      "Epoch[34/50], Step [15/23],  Loss: 1634.6039, Neg Entropy: -0.7541, Recon Loss: 1635.3580\n",
      "Epoch[34/50], Step [20/23],  Loss: 1643.7002, Neg Entropy: -0.8118, Recon Loss: 1644.5120\n",
      "0.001\n",
      "Epoch[35/50], Step [0/23],  Loss: 1603.6257, Neg Entropy: -0.7958, Recon Loss: 1604.4215\n",
      "Epoch[35/50], Step [5/23],  Loss: 1624.9447, Neg Entropy: -0.7921, Recon Loss: 1625.7368\n",
      "Epoch[35/50], Step [10/23],  Loss: 1605.0634, Neg Entropy: -0.8317, Recon Loss: 1605.8950\n",
      "Epoch[35/50], Step [15/23],  Loss: 1592.8123, Neg Entropy: -0.8040, Recon Loss: 1593.6162\n",
      "Epoch[35/50], Step [20/23],  Loss: 1646.5471, Neg Entropy: -0.8061, Recon Loss: 1647.3533\n",
      "0.001\n",
      "Epoch[36/50], Step [0/23],  Loss: 1611.6820, Neg Entropy: -0.7851, Recon Loss: 1612.4670\n",
      "Epoch[36/50], Step [5/23],  Loss: 1656.8932, Neg Entropy: -0.8701, Recon Loss: 1657.7633\n"
     ]
    },
    {
     "name": "stdout",
     "output_type": "stream",
     "text": [
      "Epoch[36/50], Step [10/23],  Loss: 1585.3214, Neg Entropy: -0.7795, Recon Loss: 1586.1008\n",
      "Epoch[36/50], Step [15/23],  Loss: 1596.8245, Neg Entropy: -0.7361, Recon Loss: 1597.5605\n",
      "Epoch[36/50], Step [20/23],  Loss: 1577.9585, Neg Entropy: -0.8235, Recon Loss: 1578.7820\n",
      "0.001\n",
      "Epoch[37/50], Step [0/23],  Loss: 1563.1665, Neg Entropy: -0.7758, Recon Loss: 1563.9423\n",
      "Epoch[37/50], Step [5/23],  Loss: 1624.0646, Neg Entropy: -0.7842, Recon Loss: 1624.8488\n",
      "Epoch[37/50], Step [10/23],  Loss: 1641.4772, Neg Entropy: -0.8048, Recon Loss: 1642.2820\n",
      "Epoch[37/50], Step [15/23],  Loss: 1583.0308, Neg Entropy: -0.7699, Recon Loss: 1583.8007\n",
      "Epoch[37/50], Step [20/23],  Loss: 1552.6801, Neg Entropy: -0.6904, Recon Loss: 1553.3705\n",
      "0.001\n",
      "Epoch[38/50], Step [0/23],  Loss: 1569.9846, Neg Entropy: -0.7730, Recon Loss: 1570.7576\n",
      "Epoch[38/50], Step [5/23],  Loss: 1575.5100, Neg Entropy: -0.6778, Recon Loss: 1576.1879\n",
      "Epoch[38/50], Step [10/23],  Loss: 1608.6571, Neg Entropy: -0.7495, Recon Loss: 1609.4066\n",
      "Epoch[38/50], Step [15/23],  Loss: 1586.3462, Neg Entropy: -0.7514, Recon Loss: 1587.0977\n",
      "Epoch[38/50], Step [20/23],  Loss: 1683.6299, Neg Entropy: -0.7834, Recon Loss: 1684.4133\n",
      "0.001\n",
      "Epoch[39/50], Step [0/23],  Loss: 1531.6163, Neg Entropy: -0.7293, Recon Loss: 1532.3456\n",
      "Epoch[39/50], Step [5/23],  Loss: 1587.8584, Neg Entropy: -0.7581, Recon Loss: 1588.6165\n",
      "Epoch[39/50], Step [10/23],  Loss: 1602.8463, Neg Entropy: -0.7568, Recon Loss: 1603.6031\n",
      "Epoch[39/50], Step [15/23],  Loss: 1587.6104, Neg Entropy: -0.7477, Recon Loss: 1588.3580\n",
      "Epoch[39/50], Step [20/23],  Loss: 1606.5339, Neg Entropy: -0.7903, Recon Loss: 1607.3242\n",
      "0.001\n",
      "Epoch[40/50], Step [0/23],  Loss: 1604.1837, Neg Entropy: -0.7940, Recon Loss: 1604.9777\n",
      "Epoch[40/50], Step [5/23],  Loss: 1595.5315, Neg Entropy: -0.7385, Recon Loss: 1596.2699\n",
      "Epoch[40/50], Step [10/23],  Loss: 1554.5945, Neg Entropy: -0.7218, Recon Loss: 1555.3163\n",
      "Epoch[40/50], Step [15/23],  Loss: 1557.9590, Neg Entropy: -0.7739, Recon Loss: 1558.7329\n",
      "Epoch[40/50], Step [20/23],  Loss: 1762.9757, Neg Entropy: -0.7148, Recon Loss: 1763.6906\n",
      "0.001\n",
      "Epoch[41/50], Step [0/23],  Loss: 1712.1299, Neg Entropy: -0.7906, Recon Loss: 1712.9204\n",
      "Epoch[41/50], Step [5/23],  Loss: 1622.1478, Neg Entropy: -0.7334, Recon Loss: 1622.8812\n",
      "Epoch[41/50], Step [10/23],  Loss: 1565.0448, Neg Entropy: -0.7504, Recon Loss: 1565.7952\n",
      "Epoch[41/50], Step [15/23],  Loss: 1555.4678, Neg Entropy: -0.7062, Recon Loss: 1556.1740\n",
      "Epoch[41/50], Step [20/23],  Loss: 1574.4388, Neg Entropy: -0.7340, Recon Loss: 1575.1729\n",
      "0.001\n",
      "Epoch[42/50], Step [0/23],  Loss: 1581.4677, Neg Entropy: -0.7358, Recon Loss: 1582.2034\n",
      "Epoch[42/50], Step [5/23],  Loss: 1548.6996, Neg Entropy: -0.8099, Recon Loss: 1549.5095\n",
      "Epoch[42/50], Step [10/23],  Loss: 1632.3573, Neg Entropy: -0.6302, Recon Loss: 1632.9875\n",
      "Epoch[42/50], Step [15/23],  Loss: 1674.4016, Neg Entropy: -0.6535, Recon Loss: 1675.0551\n",
      "Epoch[42/50], Step [20/23],  Loss: 1624.5864, Neg Entropy: -0.7671, Recon Loss: 1625.3535\n",
      "0.001\n",
      "Epoch[43/50], Step [0/23],  Loss: 1818.5123, Neg Entropy: -0.7299, Recon Loss: 1819.2422\n",
      "Epoch[43/50], Step [5/23],  Loss: 1514.6099, Neg Entropy: -0.7503, Recon Loss: 1515.3602\n",
      "Epoch[43/50], Step [10/23],  Loss: 1831.1758, Neg Entropy: -0.8347, Recon Loss: 1832.0105\n",
      "Epoch[43/50], Step [15/23],  Loss: 1609.1481, Neg Entropy: -0.7697, Recon Loss: 1609.9178\n",
      "Epoch[43/50], Step [20/23],  Loss: 1578.8660, Neg Entropy: -0.7288, Recon Loss: 1579.5947\n",
      "0.001\n",
      "Epoch[44/50], Step [0/23],  Loss: 1594.9757, Neg Entropy: -0.7747, Recon Loss: 1595.7504\n",
      "Epoch[44/50], Step [5/23],  Loss: 1586.4233, Neg Entropy: -0.7745, Recon Loss: 1587.1978\n",
      "Epoch[44/50], Step [10/23],  Loss: 1554.1506, Neg Entropy: -0.7173, Recon Loss: 1554.8679\n",
      "Epoch[44/50], Step [15/23],  Loss: 1570.6351, Neg Entropy: -0.7876, Recon Loss: 1571.4227\n",
      "Epoch[44/50], Step [20/23],  Loss: 1627.7639, Neg Entropy: -0.7370, Recon Loss: 1628.5010\n",
      "0.001\n",
      "Epoch[45/50], Step [0/23],  Loss: 1548.7372, Neg Entropy: -0.7440, Recon Loss: 1549.4812\n",
      "Epoch[45/50], Step [5/23],  Loss: 1563.6379, Neg Entropy: -0.7666, Recon Loss: 1564.4045\n",
      "Epoch[45/50], Step [10/23],  Loss: 1600.2686, Neg Entropy: -0.7836, Recon Loss: 1601.0521\n",
      "Epoch[45/50], Step [15/23],  Loss: 1613.6477, Neg Entropy: -0.7846, Recon Loss: 1614.4324\n",
      "Epoch[45/50], Step [20/23],  Loss: 1564.7654, Neg Entropy: -0.8068, Recon Loss: 1565.5723\n",
      "0.001\n",
      "Epoch[46/50], Step [0/23],  Loss: 1642.6890, Neg Entropy: -0.7258, Recon Loss: 1643.4148\n",
      "Epoch[46/50], Step [5/23],  Loss: 1621.4487, Neg Entropy: -0.7857, Recon Loss: 1622.2344\n",
      "Epoch[46/50], Step [10/23],  Loss: 1552.6676, Neg Entropy: -0.6833, Recon Loss: 1553.3510\n",
      "Epoch[46/50], Step [15/23],  Loss: 1564.9823, Neg Entropy: -0.7575, Recon Loss: 1565.7399\n",
      "Epoch[46/50], Step [20/23],  Loss: 1567.0709, Neg Entropy: -0.6922, Recon Loss: 1567.7632\n",
      "0.001\n",
      "Epoch[47/50], Step [0/23],  Loss: 1609.9862, Neg Entropy: -0.6952, Recon Loss: 1610.6814\n",
      "Epoch[47/50], Step [5/23],  Loss: 1532.6398, Neg Entropy: -0.7596, Recon Loss: 1533.3994\n",
      "Epoch[47/50], Step [10/23],  Loss: 1567.2573, Neg Entropy: -0.7636, Recon Loss: 1568.0210\n",
      "Epoch[47/50], Step [15/23],  Loss: 1494.5588, Neg Entropy: -0.7126, Recon Loss: 1495.2715\n",
      "Epoch[47/50], Step [20/23],  Loss: 1565.5924, Neg Entropy: -0.8583, Recon Loss: 1566.4507\n",
      "0.001\n",
      "Epoch[48/50], Step [0/23],  Loss: 1619.3903, Neg Entropy: -0.7844, Recon Loss: 1620.1747\n",
      "Epoch[48/50], Step [5/23],  Loss: 1516.4230, Neg Entropy: -0.8211, Recon Loss: 1517.2441\n",
      "Epoch[48/50], Step [10/23],  Loss: 1573.9513, Neg Entropy: -0.8692, Recon Loss: 1574.8204\n",
      "Epoch[48/50], Step [15/23],  Loss: 1556.2161, Neg Entropy: -0.7952, Recon Loss: 1557.0112\n",
      "Epoch[48/50], Step [20/23],  Loss: 1490.8104, Neg Entropy: -0.7352, Recon Loss: 1491.5457\n",
      "0.001\n",
      "Epoch[49/50], Step [0/23],  Loss: 1552.6160, Neg Entropy: -0.7368, Recon Loss: 1553.3527\n",
      "Epoch[49/50], Step [5/23],  Loss: 1659.1315, Neg Entropy: -0.8105, Recon Loss: 1659.9419\n",
      "Epoch[49/50], Step [10/23],  Loss: 1696.7161, Neg Entropy: -0.8684, Recon Loss: 1697.5845\n",
      "Epoch[49/50], Step [15/23],  Loss: 1516.7758, Neg Entropy: -0.7474, Recon Loss: 1517.5232\n",
      "Epoch[49/50], Step [20/23],  Loss: 1646.6377, Neg Entropy: -0.7865, Recon Loss: 1647.4242\n"
     ]
    }
   ],
   "source": [
    "train(gmvae,train_loader,optimizer, num_epochs = 50, start_epoch = epoch + 1)"
   ]
  },
  {
   "cell_type": "code",
   "execution_count": 18,
   "metadata": {},
   "outputs": [],
   "source": [
    "gmvae.eval()\n",
    "latent = gmvae.get_latent_cluster(torch.Tensor(raw_adata.obsm['X']))"
   ]
  },
  {
   "cell_type": "code",
   "execution_count": 19,
   "metadata": {},
   "outputs": [],
   "source": [
    "y = latent.detach().numpy()"
   ]
  },
  {
   "cell_type": "code",
   "execution_count": 20,
   "metadata": {},
   "outputs": [],
   "source": [
    "l = np.argmax(y,axis=1)"
   ]
  },
  {
   "cell_type": "code",
   "execution_count": 21,
   "metadata": {},
   "outputs": [
    {
     "data": {
      "text/plain": [
       "0.15410758192453997"
      ]
     },
     "execution_count": 21,
     "metadata": {},
     "output_type": "execute_result"
    }
   ],
   "source": [
    "ARI(l,raw_adata.obs['clusters'])"
   ]
  },
  {
   "cell_type": "code",
   "execution_count": 22,
   "metadata": {},
   "outputs": [
    {
     "data": {
      "text/plain": [
       "0.2941203942476933"
      ]
     },
     "execution_count": 22,
     "metadata": {},
     "output_type": "execute_result"
    }
   ],
   "source": [
    "NMI(l,raw_adata.obs['clusters'])"
   ]
  },
  {
   "cell_type": "code",
   "execution_count": null,
   "metadata": {},
   "outputs": [],
   "source": []
  },
  {
   "cell_type": "code",
   "execution_count": null,
   "metadata": {},
   "outputs": [],
   "source": []
  },
  {
   "cell_type": "code",
   "execution_count": null,
   "metadata": {},
   "outputs": [],
   "source": []
  },
  {
   "cell_type": "code",
   "execution_count": null,
   "metadata": {},
   "outputs": [],
   "source": []
  },
  {
   "cell_type": "code",
   "execution_count": null,
   "metadata": {},
   "outputs": [],
   "source": []
  },
  {
   "cell_type": "code",
   "execution_count": 23,
   "metadata": {},
   "outputs": [],
   "source": [
    "post_adata = anndata.AnnData(X=raw_adata.X)\n",
    "post_adata.obsm[\"X_scVI\"] = latent.detach().numpy()\n",
    "post_adata.obs['cell_type'] = raw_adata.obs['clusters']"
   ]
  },
  {
   "cell_type": "code",
   "execution_count": 24,
   "metadata": {},
   "outputs": [],
   "source": [
    "sc.pp.neighbors(post_adata, use_rep=\"X_scVI\", n_neighbors=15)\n",
    "sc.tl.umap(post_adata, min_dist=0.1)"
   ]
  },
  {
   "cell_type": "code",
   "execution_count": 25,
   "metadata": {},
   "outputs": [
    {
     "data": {
      "image/png": "[encoded data removed]",
      "text/plain": [
       "<Figure size 504x432 with 1 Axes>"
      ]
     },
     "metadata": {},
     "output_type": "display_data"
    }
   ],
   "source": [
    "fig, ax = plt.subplots(figsize=(7, 6))\n",
    "sc.pl.umap(post_adata, color=[\"cell_type\"], ax=ax)#, show=show_plot)"
   ]
  },
  {
   "cell_type": "code",
   "execution_count": 26,
   "metadata": {},
   "outputs": [
    {
     "data": {
      "image/png": "[encoded data removed]",
      "text/plain": [
       "<Figure size 432x288 with 1 Axes>"
      ]
     },
     "metadata": {},
     "output_type": "display_data"
    }
   ],
   "source": [
    "sc.tl.tsne(post_adata, use_rep=\"X_scVI\")\n",
    "sc.pl.tsne(post_adata,color=['cell_type'])#,save=\"_cortex_scvi.png\")"
   ]
  },
  {
   "cell_type": "code",
   "execution_count": 27,
   "metadata": {},
   "outputs": [
    {
     "data": {
      "text/plain": [
       "0.31344585329644314"
      ]
     },
     "execution_count": 27,
     "metadata": {},
     "output_type": "execute_result"
    }
   ],
   "source": [
    "from sklearn.cluster import KMeans\n",
    "\n",
    "out = KMeans(n_clusters=7).fit(latent)\n",
    "\n",
    "out.labels_\n",
    "\n",
    "sklearn.metrics.normalized_mutual_info_score(out.labels_,raw_adata.obs['clusters'])\n",
    "\n"
   ]
  },
  {
   "cell_type": "code",
   "execution_count": 28,
   "metadata": {},
   "outputs": [
    {
     "data": {
      "text/plain": [
       "0.17845843915598023"
      ]
     },
     "execution_count": 28,
     "metadata": {},
     "output_type": "execute_result"
    }
   ],
   "source": [
    "sklearn.metrics.adjusted_rand_score(out.labels_,raw_adata.obs['clusters'])\n",
    "\n",
    "\n"
   ]
  },
  {
   "cell_type": "code",
   "execution_count": null,
   "metadata": {},
   "outputs": [],
   "source": []
  }
 ],
 "metadata": {
  "kernelspec": {
   "display_name": "Python 3",
   "language": "python",
   "name": "python3"
  },
  "language_info": {
   "codemirror_mode": {
    "name": "ipython",
    "version": 3
   },
   "file_extension": ".py",
   "mimetype": "text/x-python",
   "name": "python",
   "nbconvert_exporter": "python",
   "pygments_lexer": "ipython3",
   "version": "3.7.4"
  }
 },
 "nbformat": 4,
 "nbformat_minor": 2
}
